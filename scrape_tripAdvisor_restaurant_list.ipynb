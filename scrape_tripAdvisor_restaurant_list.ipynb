{
 "cells": [
  {
   "cell_type": "markdown",
   "metadata": {},
   "source": [
    "### This notebook scrapes some quick info from 2100 highest rated restaurant in GTA from tripAdvisor "
   ]
  },
  {
   "cell_type": "code",
   "execution_count": 1,
   "metadata": {},
   "outputs": [],
   "source": [
    "from urllib.request import urlopen\n",
    "from bs4 import BeautifulSoup\n",
    "%run scrape_googlemaps_functions.ipynb\n",
    "from datetime import datetime\n",
    "import pytz\n",
    "import pandas as pd"
   ]
  },
  {
   "cell_type": "code",
   "execution_count": 2,
   "metadata": {},
   "outputs": [],
   "source": [
    "from selenium import webdriver\n",
    "# options = Options()\n",
    "# options.add_argument(\"--lang=en\")\n",
    "# driver = webdriver.Chrome(chrome_options=options)\n",
    "\n",
    "driver = webdriver.Chrome(executable_path=r'C:\\Users\\hajih\\Downloads\\chromedriver_win32\\chromedriver.exe')"
   ]
  },
  {
   "cell_type": "code",
   "execution_count": 3,
   "metadata": {},
   "outputs": [],
   "source": [
    "# Open Table Toronto restaurants\n",
    "# url = 'https://www.opentable.ca/s?dateTime=2021-08-09T19%3A00%3A00&covers=2&latitude=43.651007&longitude=-79.420648&corrid=08e0949d-fbe7-428a-968d-c988e1d101e3&sortBy=rating&metroId=74&queryUnderstandingType=none'\n",
    "url = 'https://www.tripadvisor.ca/Restaurants-g155019-Toronto_Ontario.html'\n",
    "\n",
    "x = driver.get(url)"
   ]
  },
  {
   "cell_type": "code",
   "execution_count": 4,
   "metadata": {},
   "outputs": [],
   "source": [
    "def go_to_page(driver,p):\n",
    "    # p = 1 goes to page 2 and so on\n",
    "    links = driver.find_elements_by_xpath(f'//*[@id=\"EATERY_LIST_CONTENTS\"]/div[2]/div/div/a[{p}]') # has to change to match stucture\n",
    "    #     print('LINKS HERE', links)\n",
    "    for l in links:\n",
    "        l.click()\n",
    "    time.sleep(5)       \n"
   ]
  },
  {
   "cell_type": "code",
   "execution_count": 5,
   "metadata": {},
   "outputs": [],
   "source": [
    "# if we go over 30 pages\n",
    "soup = BeautifulSoup(driver.page_source,'html.parser')\n",
    "names = soup.find_all('a', class_='_15_ydu6b')\n",
    "stars =  soup.find_all('div', class_='_2rmp5aUK')\n",
    "cuisine = soup.find_all('div',class_='MIajtJFg _1cBs8huC _3d9EnJpt')\n",
    "\n",
    "rest_names = []\n",
    "for rest in names:\n",
    "    rest_names.append(rest.text)\n",
    "\n",
    "rest_stars = []\n",
    "for rest in stars:\n",
    "    rest_stars.append(rest.find('svg',class_='zWXXYhVR')['aria-label'])\n",
    "\n",
    "rest_cuisine = []\n",
    "retdates = []\n",
    "\n",
    "for rest in cuisine:\n",
    "    rest_cuisine.append(rest.find('span',class_=\"_1p0FLy4t\").text)\n",
    "    t        = datetime.now()\n",
    "    timezone = pytz.timezone('Canada/Eastern')\n",
    "    t        = timezone.localize(t)\n",
    "    retdates.append(t)\n"
   ]
  },
  {
   "cell_type": "code",
   "execution_count": 6,
   "metadata": {},
   "outputs": [
    {
     "name": "stdout",
     "output_type": "stream",
     "text": [
      "2\n",
      "3\n",
      "4\n",
      "5\n",
      "6\n"
     ]
    }
   ],
   "source": [
    "import time\n",
    "for p in range(1,6):\n",
    "    print(p+1)\n",
    "    go_to_page(driver,p)\n",
    "    soup = BeautifulSoup(driver.page_source,'html.parser')\n",
    "    names = soup.find_all('a', class_='_15_ydu6b')\n",
    "    stars =  soup.find_all('div', class_='_2rmp5aUK')\n",
    "    cuisine = soup.find_all('div',class_='MIajtJFg _1cBs8huC _3d9EnJpt')\n",
    "    for rest in names:\n",
    "        rest_names.append(rest.text)\n",
    "        \n",
    "    for rest in stars:\n",
    "        rest_stars.append(rest.find('svg',class_='zWXXYhVR')['aria-label'])\n",
    "\n",
    "    for rest in cuisine:\n",
    "        rest_cuisine.append(rest.find('span',class_=\"_1p0FLy4t\").text)\n",
    "        t        = datetime.now()\n",
    "        timezone = pytz.timezone('Canada/Eastern')\n",
    "        t        = timezone.localize(t)\n",
    "        retdates.append(t)\n"
   ]
  },
  {
   "cell_type": "code",
   "execution_count": 7,
   "metadata": {},
   "outputs": [
    {
     "name": "stdout",
     "output_type": "stream",
     "text": [
      "6\n",
      "7\n",
      "8\n",
      "9\n",
      "10\n",
      "11\n",
      "12\n",
      "13\n",
      "14\n",
      "15\n",
      "16\n",
      "17\n",
      "18\n",
      "19\n",
      "20\n",
      "21\n",
      "22\n",
      "23\n",
      "24\n",
      "25\n",
      "26\n",
      "27\n",
      "28\n",
      "29\n",
      "30\n",
      "31\n",
      "32\n",
      "33\n",
      "34\n",
      "35\n",
      "36\n",
      "37\n",
      "38\n",
      "39\n",
      "40\n",
      "41\n",
      "42\n",
      "43\n",
      "44\n",
      "45\n",
      "46\n",
      "47\n",
      "48\n",
      "49\n",
      "50\n",
      "51\n",
      "52\n",
      "53\n",
      "54\n",
      "55\n",
      "56\n",
      "57\n",
      "58\n",
      "59\n",
      "60\n",
      "61\n",
      "62\n",
      "63\n",
      "64\n",
      "65\n",
      "66\n",
      "67\n",
      "68\n",
      "69\n"
     ]
    }
   ],
   "source": [
    "max_pages = 70\n",
    "page = 6\n",
    "while page < max_pages:\n",
    "    print(page)\n",
    "    page +=1 \n",
    "# for p in range(1,6):\n",
    "    go_to_page(driver,5) # next page is always coded as 5\n",
    "    soup = BeautifulSoup(driver.page_source,'html.parser')\n",
    "    names = soup.find_all('a', class_='_15_ydu6b')\n",
    "    stars =  soup.find_all('div', class_='_2rmp5aUK')\n",
    "    cuisine = soup.find_all('div',class_='MIajtJFg _1cBs8huC _3d9EnJpt')\n",
    "    for rest in names:\n",
    "        rest_names.append(rest.text)\n",
    "        \n",
    "    for rest in stars:\n",
    "        try:\n",
    "            rest_stars.append(rest.find('svg',class_='zWXXYhVR')['aria-label'])\n",
    "        except Exception as e:\n",
    "            rest_stars.append('None')\n",
    "            \n",
    "    for rest in cuisine:\n",
    "        try:\n",
    "            rest_cuisine.append(rest.find('span',class_=\"_1p0FLy4t\").text)\n",
    "        except Exception as e:\n",
    "            rest_cuisine.append('None') \n",
    "\n",
    "        t        = datetime.now()\n",
    "        timezone = pytz.timezone('Canada/Eastern')\n",
    "        t        = timezone.localize(t)\n",
    "        retdates.append(t)\n"
   ]
  },
  {
   "cell_type": "code",
   "execution_count": 11,
   "metadata": {},
   "outputs": [],
   "source": [
    "rest_dict = dict()\n",
    "rest_dict['name'] = rest_names\n",
    "rest_dict['stars'] = rest_stars\n",
    "rest_dict['cuisine'] = rest_cuisine\n",
    "rest_dict['retrieve-date'] = retdates\n",
    "\n",
    "restaurant_df = pd.DataFrame.from_dict(rest_dict)\n",
    "csvfile = 'data/restaurant_list_Toronto_tripAdvisor.csv'\n",
    "restaurant_df.to_csv(csvfile)\n"
   ]
  }
 ],
 "metadata": {
  "kernelspec": {
   "display_name": "Python 3",
   "language": "python",
   "name": "python3"
  },
  "language_info": {
   "codemirror_mode": {
    "name": "ipython",
    "version": 3
   },
   "file_extension": ".py",
   "mimetype": "text/x-python",
   "name": "python",
   "nbconvert_exporter": "python",
   "pygments_lexer": "ipython3",
   "version": "3.9.1"
  }
 },
 "nbformat": 4,
 "nbformat_minor": 4
}
