{
 "cells": [
  {
   "cell_type": "markdown",
   "metadata": {},
   "source": [
    "### This notebook scrapes some quick info from 2100 highest rated restaurant in GTA from tripAdvisor "
   ]
  },
  {
   "cell_type": "code",
   "execution_count": 1,
   "metadata": {},
   "outputs": [],
   "source": [
    "from urllib.request import urlopen\n",
    "from bs4 import BeautifulSoup\n",
    "%run scrape_googlemaps_functions.ipynb\n",
    "from datetime import datetime\n",
    "import pytz\n",
    "import pandas as pd\n",
    "import time"
   ]
  },
  {
   "cell_type": "code",
   "execution_count": 4,
   "metadata": {},
   "outputs": [],
   "source": [
    "from selenium import webdriver\n",
    "path_to_driver = ''\n",
    "driver = webdriver.Chrome(executable_path= path_to_driver)"
   ]
  },
  {
   "cell_type": "code",
   "execution_count": 5,
   "metadata": {},
   "outputs": [],
   "source": [
    "# Open Table Toronto restaurants\n",
    "# url = 'https://www.opentable.ca/s?dateTime=2021-08-09T19%3A00%3A00&covers=2&latitude=43.651007&longitude=-79.420648&corrid=08e0949d-fbe7-428a-968d-c988e1d101e3&sortBy=rating&metroId=74&queryUnderstandingType=none'\n",
    "url = 'https://www.tripadvisor.ca/Restaurants-g155019-Toronto_Ontario.html'\n",
    "\n",
    "x = driver.get(url)"
   ]
  },
  {
   "cell_type": "code",
   "execution_count": 6,
   "metadata": {},
   "outputs": [],
   "source": [
    "def go_to_page(driver,p):\n",
    "    # p = 1 goes to page 2 and so on\n",
    "    links = driver.find_elements_by_xpath(f'//*[@id=\"EATERY_LIST_CONTENTS\"]/div[2]/div/div/a[{p}]') # has to change to match stucture\n",
    "    #     print('LINKS HERE', links)\n",
    "    for l in links:\n",
    "        l.click()\n",
    "    time.sleep(5)       \n"
   ]
  },
  {
   "cell_type": "code",
   "execution_count": 9,
   "metadata": {},
   "outputs": [],
   "source": [
    "def get_page_content(driver, page_num, rest_names=[],rest_stars=[], rest_cuisine=[], rest_dates=[]):\n",
    "    \n",
    "    go_to_page(driver,page_num)\n",
    "    soup = BeautifulSoup(driver.page_source,'html.parser')\n",
    "    names = soup.find_all('a', class_='_15_ydu6b')\n",
    "    stars =  soup.find_all('div', class_='_2rmp5aUK')\n",
    "    cuisine = soup.find_all('div',class_='MIajtJFg _1cBs8huC _3d9EnJpt')\n",
    "    rest_names = []\n",
    "    for rest in names:\n",
    "        rest_names.append(rest.text)\n",
    "\n",
    "    rest_stars = []\n",
    "    for rest in stars:\n",
    "        try:\n",
    "            rest_stars.append(rest.find('svg',class_='zWXXYhVR')['aria-label'])\n",
    "        except Exception as e:\n",
    "            rest_stars.append('None')\n",
    "    rest_cuisine = []\n",
    "    rest_dates = []\n",
    "    for rest in cuisine:\n",
    "        try:\n",
    "            rest_cuisine.append(rest.find('span',class_=\"_1p0FLy4t\").text)\n",
    "        except Exception as e:\n",
    "            rest_cuisine.append('None') \n",
    "\n",
    "        t        = datetime.now()\n",
    "        timezone = pytz.timezone('Canada/Eastern')\n",
    "        t        = timezone.localize(t)\n",
    "        rest_dates.append(t)\n",
    "    return rest_names, rest_stars, rest_cuisine, rest_dates"
   ]
  },
  {
   "cell_type": "code",
   "execution_count": 17,
   "metadata": {},
   "outputs": [],
   "source": [
    "# for first six pages\n",
    "rest_names   = []\n",
    "rest_stars   = []\n",
    "rest_cuisine = []\n",
    "rest_dates   = []\n",
    "for p in range(1,6):\n",
    "    print(p+1)\n",
    "    [rest_names, rest_stars, rest_cuisine, rest_dates] = get_page_content(driver,p,rest_names,rest_stars,rest_cuisine,rest_dates)\n",
    "\n",
    "# for more pages\n",
    "max_pages = 70\n",
    "page = 6\n",
    "\n",
    "while page < max_pages:\n",
    "    print(page)\n",
    "    page +=1 \n",
    "    # next page is always coded as 5\n",
    "    [rest_names, rest_stars, rest_cuisine, rest_dates] = get_page_content(driver,5,rest_names,rest_stars,rest_cuisine,rest_dates)\n",
    "\n",
    "\n"
   ]
  },
  {
   "cell_type": "code",
   "execution_count": 11,
   "metadata": {},
   "outputs": [],
   "source": [
    "rest_dict = dict()\n",
    "rest_dict['name'] = rest_names\n",
    "rest_dict['stars'] = rest_stars\n",
    "rest_dict['cuisine'] = rest_cuisine\n",
    "rest_dict['retrieve-date'] = retdates\n",
    "\n",
    "restaurant_df = pd.DataFrame.from_dict(rest_dict)\n",
    "\n",
    "csvfile = 'data/restaurant_list_Toronto_tripAdvisor.csv'\n",
    "restaurant_df.to_csv(csvfile)\n"
   ]
  }
 ],
 "metadata": {
  "kernelspec": {
   "display_name": "Python 3",
   "language": "python",
   "name": "python3"
  },
  "language_info": {
   "codemirror_mode": {
    "name": "ipython",
    "version": 3
   },
   "file_extension": ".py",
   "mimetype": "text/x-python",
   "name": "python",
   "nbconvert_exporter": "python",
   "pygments_lexer": "ipython3",
   "version": "3.9.1"
  }
 },
 "nbformat": 4,
 "nbformat_minor": 4
}
