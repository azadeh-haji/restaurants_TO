{
 "cells": [
  {
   "cell_type": "markdown",
   "metadata": {},
   "source": [
    "### This notebook contains codes and functions to scrape google reviews from a provided restaurant URL:"
   ]
  },
  {
   "cell_type": "code",
   "execution_count": 1,
   "metadata": {},
   "outputs": [],
   "source": [
    "from urllib.request import urlopen\n",
    "# from bs4 import BeautifulSoup\n",
    "%run scrape_googlemaps_functions.ipynb"
   ]
  },
  {
   "cell_type": "code",
   "execution_count": 2,
   "metadata": {},
   "outputs": [],
   "source": [
    "from selenium import webdriver\n",
    "# options = Options()\n",
    "# options.add_argument(\"--lang=en\")\n",
    "# driver = webdriver.Chrome(chrome_options=options)\n",
    "\n",
    "driver = webdriver.Chrome(executable_path=r'C:\\Users\\hajih\\Downloads\\chromedriver_win32\\chromedriver.exe')"
   ]
  },
  {
   "cell_type": "code",
   "execution_count": 3,
   "metadata": {},
   "outputs": [],
   "source": [
    "# Positano restaurant\n",
    "url = 'https://www.google.com/maps/place/Positano+Restaurant/@43.7047105,-79.3907307,17z/data=!3m1!4b1!4m5!3m4!1s0x882b3331ac303cad:0xd9515b343c0cac7f!8m2!3d43.7047157!4d-79.3885282'\n",
    "# url = 'https://www.google.com/maps/place/Bel+Ami/@49.7071169,0.2031639,15z/data=!4m12!1m6!3m5!1s0x0:0xedeb3a5c20ffb651!2sBel+Ami!8m2!3d49.7071169!4d0.2031639!3m4!1s0x0:0xedeb3a5c20ffb651!8m2!3d49.7071169!4d0.2031639'\n",
    "\n",
    "x = driver.get(url)"
   ]
  },
  {
   "cell_type": "code",
   "execution_count": 22,
   "metadata": {},
   "outputs": [],
   "source": [
    "# more_reviews(driver)"
   ]
  },
  {
   "cell_type": "code",
   "execution_count": 4,
   "metadata": {},
   "outputs": [
    {
     "data": {
      "text/html": [
       "<div>\n",
       "<style scoped>\n",
       "    .dataframe tbody tr th:only-of-type {\n",
       "        vertical-align: middle;\n",
       "    }\n",
       "\n",
       "    .dataframe tbody tr th {\n",
       "        vertical-align: top;\n",
       "    }\n",
       "\n",
       "    .dataframe thead th {\n",
       "        text-align: right;\n",
       "    }\n",
       "</style>\n",
       "<table border=\"1\" class=\"dataframe\">\n",
       "  <thead>\n",
       "    <tr style=\"text-align: right;\">\n",
       "      <th></th>\n",
       "      <th>revid</th>\n",
       "      <th>userid</th>\n",
       "      <th>review-text</th>\n",
       "      <th>response-text</th>\n",
       "      <th>review-relative-date</th>\n",
       "      <th>review-retrieve-date</th>\n",
       "      <th>rating</th>\n",
       "    </tr>\n",
       "  </thead>\n",
       "  <tbody>\n",
       "    <tr>\n",
       "      <th>0</th>\n",
       "      <td>ChdDSUhNMG9nS0VJQ0FnSUNLcDRpbnZRRRAB</td>\n",
       "      <td>Keven Menager</td>\n",
       "      <td>Soooo good!  Reliable and consistent quality e...</td>\n",
       "      <td>None</td>\n",
       "      <td>3 months ago</td>\n",
       "      <td>2021-08-06 10:45:09.575592-04:00</td>\n",
       "      <td>5 stars</td>\n",
       "    </tr>\n",
       "    <tr>\n",
       "      <th>1</th>\n",
       "      <td>ChZDSUhNMG9nS0VJQ0FnSUNhaWRQYVZREAE</td>\n",
       "      <td>negar khalili</td>\n",
       "      <td>The owner is very friendly and all staff are n...</td>\n",
       "      <td>None</td>\n",
       "      <td>3 days ago</td>\n",
       "      <td>2021-08-06 10:45:09.867387-04:00</td>\n",
       "      <td>5 stars</td>\n",
       "    </tr>\n",
       "    <tr>\n",
       "      <th>2</th>\n",
       "      <td>ChdDSUhNMG9nS0VJQ0FnSURxeHM2c3hBRRAB</td>\n",
       "      <td>Selda Oncel</td>\n",
       "      <td>We went there last week as a family. I can not...</td>\n",
       "      <td>None</td>\n",
       "      <td>4 weeks ago</td>\n",
       "      <td>2021-08-06 10:45:09.867387-04:00</td>\n",
       "      <td>5 stars</td>\n",
       "    </tr>\n",
       "    <tr>\n",
       "      <th>3</th>\n",
       "      <td>ChdDSUhNMG9nS0VJQ0FnSUNDazd1Z3F3RRAB</td>\n",
       "      <td>Catherine C</td>\n",
       "      <td>Nice outdoor seating area and excellent servic...</td>\n",
       "      <td>None</td>\n",
       "      <td>11 months ago</td>\n",
       "      <td>2021-08-06 10:45:09.867387-04:00</td>\n",
       "      <td>4 stars</td>\n",
       "    </tr>\n",
       "    <tr>\n",
       "      <th>4</th>\n",
       "      <td>ChdDSUhNMG9nS0VJQ0FnSURxMkluXzFBRRAB</td>\n",
       "      <td>Maria Minakakis</td>\n",
       "      <td>Incredible place, great menu and very good ser...</td>\n",
       "      <td>None</td>\n",
       "      <td>a month ago</td>\n",
       "      <td>2021-08-06 10:45:09.867387-04:00</td>\n",
       "      <td>5 stars</td>\n",
       "    </tr>\n",
       "    <tr>\n",
       "      <th>5</th>\n",
       "      <td>ChZDSUhNMG9nS0VJQ0FnSURxejdySVVREAE</td>\n",
       "      <td>Felis Dee</td>\n",
       "      <td>Wonderful and delicious Italian food and very ...</td>\n",
       "      <td>None</td>\n",
       "      <td>2 weeks ago</td>\n",
       "      <td>2021-08-06 10:45:09.868385-04:00</td>\n",
       "      <td>5 stars</td>\n",
       "    </tr>\n",
       "    <tr>\n",
       "      <th>6</th>\n",
       "      <td>ChZDSUhNMG9nS0VJQ0FnSUNxdzVPaUxBEAE</td>\n",
       "      <td>Tasha Dallimore</td>\n",
       "      <td>We came here on a whim and had the best Italia...</td>\n",
       "      <td>None</td>\n",
       "      <td>a month ago</td>\n",
       "      <td>2021-08-06 10:45:09.868385-04:00</td>\n",
       "      <td>5 stars</td>\n",
       "    </tr>\n",
       "    <tr>\n",
       "      <th>7</th>\n",
       "      <td>ChZDSUhNMG9nS0VJQ0FnSURxeXBIOFBnEAE</td>\n",
       "      <td>Asmeeta Ingale</td>\n",
       "      <td>Terrible service which is a shame as their foo...</td>\n",
       "      <td>None</td>\n",
       "      <td>a month ago</td>\n",
       "      <td>2021-08-06 10:45:09.868385-04:00</td>\n",
       "      <td>2 stars</td>\n",
       "    </tr>\n",
       "    <tr>\n",
       "      <th>8</th>\n",
       "      <td>ChZDSUhNMG9nS0VJQ0FnSUM0Mkp5bFdREAE</td>\n",
       "      <td>Bonnie Kook</td>\n",
       "      <td>Amazing food. My husband and I got the special...</td>\n",
       "      <td>None</td>\n",
       "      <td>2 years ago</td>\n",
       "      <td>2021-08-06 10:45:09.868385-04:00</td>\n",
       "      <td>5 stars</td>\n",
       "    </tr>\n",
       "    <tr>\n",
       "      <th>9</th>\n",
       "      <td>ChZDSUhNMG9nS0VJQ0FnSURDcnVLMEdBEAE</td>\n",
       "      <td>ivan perez</td>\n",
       "      <td>Nice place, service is amazing and the food ju...</td>\n",
       "      <td>None</td>\n",
       "      <td>10 months ago</td>\n",
       "      <td>2021-08-06 10:45:09.868385-04:00</td>\n",
       "      <td>5 stars</td>\n",
       "    </tr>\n",
       "  </tbody>\n",
       "</table>\n",
       "</div>"
      ],
      "text/plain": [
       "                                  revid             userid  \\\n",
       "0  ChdDSUhNMG9nS0VJQ0FnSUNLcDRpbnZRRRAB     Keven Menager    \n",
       "1   ChZDSUhNMG9nS0VJQ0FnSUNhaWRQYVZREAE     negar khalili    \n",
       "2  ChdDSUhNMG9nS0VJQ0FnSURxeHM2c3hBRRAB       Selda Oncel    \n",
       "3  ChdDSUhNMG9nS0VJQ0FnSUNDazd1Z3F3RRAB       Catherine C    \n",
       "4  ChdDSUhNMG9nS0VJQ0FnSURxMkluXzFBRRAB   Maria Minakakis    \n",
       "5   ChZDSUhNMG9nS0VJQ0FnSURxejdySVVREAE         Felis Dee    \n",
       "6   ChZDSUhNMG9nS0VJQ0FnSUNxdzVPaUxBEAE   Tasha Dallimore    \n",
       "7   ChZDSUhNMG9nS0VJQ0FnSURxeXBIOFBnEAE    Asmeeta Ingale    \n",
       "8   ChZDSUhNMG9nS0VJQ0FnSUM0Mkp5bFdREAE       Bonnie Kook    \n",
       "9   ChZDSUhNMG9nS0VJQ0FnSURDcnVLMEdBEAE        ivan perez    \n",
       "\n",
       "                                         review-text response-text  \\\n",
       "0  Soooo good!  Reliable and consistent quality e...          None   \n",
       "1  The owner is very friendly and all staff are n...          None   \n",
       "2  We went there last week as a family. I can not...          None   \n",
       "3  Nice outdoor seating area and excellent servic...          None   \n",
       "4  Incredible place, great menu and very good ser...          None   \n",
       "5  Wonderful and delicious Italian food and very ...          None   \n",
       "6  We came here on a whim and had the best Italia...          None   \n",
       "7  Terrible service which is a shame as their foo...          None   \n",
       "8  Amazing food. My husband and I got the special...          None   \n",
       "9  Nice place, service is amazing and the food ju...          None   \n",
       "\n",
       "  review-relative-date             review-retrieve-date     rating  \n",
       "0         3 months ago 2021-08-06 10:45:09.575592-04:00   5 stars   \n",
       "1           3 days ago 2021-08-06 10:45:09.867387-04:00   5 stars   \n",
       "2          4 weeks ago 2021-08-06 10:45:09.867387-04:00   5 stars   \n",
       "3        11 months ago 2021-08-06 10:45:09.867387-04:00   4 stars   \n",
       "4          a month ago 2021-08-06 10:45:09.867387-04:00   5 stars   \n",
       "5          2 weeks ago 2021-08-06 10:45:09.868385-04:00   5 stars   \n",
       "6          a month ago 2021-08-06 10:45:09.868385-04:00   5 stars   \n",
       "7          a month ago 2021-08-06 10:45:09.868385-04:00   2 stars   \n",
       "8          2 years ago 2021-08-06 10:45:09.868385-04:00   5 stars   \n",
       "9        10 months ago 2021-08-06 10:45:09.868385-04:00   5 stars   "
      ]
     },
     "execution_count": 4,
     "metadata": {},
     "output_type": "execute_result"
    }
   ],
   "source": [
    "review_df = get_reviews(driver)\n",
    "review_df"
   ]
  },
  {
   "cell_type": "code",
   "execution_count": 11,
   "metadata": {},
   "outputs": [
    {
     "data": {
      "text/plain": [
       "\"Soooo good!  Reliable and consistent quality every time. We've started ordering a bit more …\""
      ]
     },
     "execution_count": 11,
     "metadata": {},
     "output_type": "execute_result"
    }
   ],
   "source": [
    "review_df['review-text'][0]"
   ]
  },
  {
   "cell_type": "code",
   "execution_count": 9,
   "metadata": {},
   "outputs": [
    {
     "data": {
      "text/plain": [
       "'ChdDSUhNMG9nS0VJQ0FnSUNDNnZTSndRRRAB'"
      ]
     },
     "execution_count": 9,
     "metadata": {},
     "output_type": "execute_result"
    }
   ],
   "source": [
    "## how to find action menu to be able to click on later (which i didnt do here)\n",
    "# soup.find('button', class_='section-review-action-menu')['data-review-id']"
   ]
  },
  {
   "cell_type": "code",
   "execution_count": 7,
   "metadata": {},
   "outputs": [],
   "source": [
    "# import re\n",
    "# nlist = [rev.start() for rev in re.finditer('Response from the owner',soup.text)]\n",
    "# nlist"
   ]
  },
  {
   "cell_type": "code",
   "execution_count": 13,
   "metadata": {},
   "outputs": [],
   "source": [
    "# from selenium.webdriver import ActionChains\n",
    "# # ActionChains(driver).click('more reviews').perform()\n",
    "# menu = driver.find_element_by_css_selector('.nav')\n"
   ]
  },
  {
   "cell_type": "code",
   "execution_count": 14,
   "metadata": {},
   "outputs": [],
   "source": [
    "# wait = WebDriverWait(driver, 2)\n",
    "# menu_bt = wait.until(EC.element_to_be_clickable(\n",
    "#                        (By.XPATH, '//button[@data-value=\\'Sort\\']')))\n"
   ]
  },
  {
   "cell_type": "code",
   "execution_count": 5,
   "metadata": {},
   "outputs": [],
   "source": [
    "# ## click on \"More Reviews\" as many times as needed to load all reviews taken from:\n",
    "# ## https://github.com/gaspa93/googlemaps-scraper, googlemaps.py\n",
    "# import time\n",
    "# links = driver.find_elements_by_xpath('//button[@jsaction=\\'pane.reviewChart.moreReviews\\']')\n",
    "# print('LINKS HERE', links)\n",
    "# for l in links:\n",
    "#     l.click()\n",
    "# time.sleep(2)\n"
   ]
  },
  {
   "cell_type": "code",
   "execution_count": 110,
   "metadata": {},
   "outputs": [
    {
     "data": {
      "text/plain": [
       "20"
      ]
     },
     "execution_count": 110,
     "metadata": {},
     "output_type": "execute_result"
    }
   ],
   "source": [
    "# soup = BeautifulSoup(driver.page_source,'html.parser')\n",
    "# rev_list = soup.find_all('div',class_='section-review-content')\n",
    "# len(rev_list)"
   ]
  },
  {
   "cell_type": "code",
   "execution_count": 112,
   "metadata": {},
   "outputs": [],
   "source": [
    "# import re\n",
    "# respStart = [rev.start() for rev in re.finditer('Response from the owner',soup.text)]\n",
    "# respEnd   = [rev.end() for rev in re.finditer('Response from the owner',soup.text)]"
   ]
  },
  {
   "cell_type": "code",
   "execution_count": 116,
   "metadata": {},
   "outputs": [],
   "source": [
    "# for ind,r in enumerate(respStart):\n",
    "#     print(soup.text[r:respEnd[ind]])\n",
    "#     print('\\n')"
   ]
  }
 ],
 "metadata": {
  "kernelspec": {
   "display_name": "Python 3",
   "language": "python",
   "name": "python3"
  },
  "language_info": {
   "codemirror_mode": {
    "name": "ipython",
    "version": 3
   },
   "file_extension": ".py",
   "mimetype": "text/x-python",
   "name": "python",
   "nbconvert_exporter": "python",
   "pygments_lexer": "ipython3",
   "version": "3.9.1"
  }
 },
 "nbformat": 4,
 "nbformat_minor": 4
}
