{
 "cells": [
  {
   "cell_type": "markdown",
   "metadata": {},
   "source": [
    "### This notebook contains codes and functions to scrape google reviews from a provided restaurant URL:"
   ]
  },
  {
   "cell_type": "code",
   "execution_count": 1,
   "metadata": {},
   "outputs": [],
   "source": [
    "from urllib.request import urlopen\n",
    "# from bs4 import BeautifulSoup\n",
    "%run scrape_googlemaps_functions.ipynb"
   ]
  },
  {
   "cell_type": "code",
   "execution_count": 2,
   "metadata": {},
   "outputs": [],
   "source": [
    "from selenium import webdriver\n",
    "# options = Options()\n",
    "# options.add_argument(\"--lang=en\")\n",
    "# driver = webdriver.Chrome(chrome_options=options)\n",
    "\n",
    "driver = webdriver.Chrome(executable_path=r'C:\\Users\\hajih\\Downloads\\chromedriver_win32\\chromedriver.exe')"
   ]
  },
  {
   "cell_type": "code",
   "execution_count": 3,
   "metadata": {},
   "outputs": [],
   "source": [
    "# Positano restaurant\n",
    "url = 'https://www.google.com/maps/place/Positano+Restaurant/@43.7047105,-79.3907307,17z/data=!3m1!4b1!4m5!3m4!1s0x882b3331ac303cad:0xd9515b343c0cac7f!8m2!3d43.7047157!4d-79.3885282'\n",
    "# url = 'https://www.google.com/maps/place/Bel+Ami/@49.7071169,0.2031639,15z/data=!4m12!1m6!3m5!1s0x0:0xedeb3a5c20ffb651!2sBel+Ami!8m2!3d49.7071169!4d0.2031639!3m4!1s0x0:0xedeb3a5c20ffb651!8m2!3d49.7071169!4d0.2031639'\n",
    "\n",
    "x = driver.get(url)"
   ]
  },
  {
   "cell_type": "code",
   "execution_count": 22,
   "metadata": {},
   "outputs": [],
   "source": [
    "# more_reviews(driver)"
   ]
  },
  {
   "cell_type": "code",
   "execution_count": 4,
   "metadata": {},
   "outputs": [
    {
     "data": {
      "text/html": [
       "<div>\n",
       "<style scoped>\n",
       "    .dataframe tbody tr th:only-of-type {\n",
       "        vertical-align: middle;\n",
       "    }\n",
       "\n",
       "    .dataframe tbody tr th {\n",
       "        vertical-align: top;\n",
       "    }\n",
       "\n",
       "    .dataframe thead th {\n",
       "        text-align: right;\n",
       "    }\n",
       "</style>\n",
       "<table border=\"1\" class=\"dataframe\">\n",
       "  <thead>\n",
       "    <tr style=\"text-align: right;\">\n",
       "      <th></th>\n",
       "      <th>revid</th>\n",
       "      <th>userid</th>\n",
       "      <th>review-text</th>\n",
       "      <th>response-text</th>\n",
       "      <th>review-relative-date</th>\n",
       "      <th>review-retrieve-date</th>\n",
       "      <th>rating</th>\n",
       "    </tr>\n",
       "  </thead>\n",
       "  <tbody>\n",
       "    <tr>\n",
       "      <th>0</th>\n",
       "      <td>ChdDSUhNMG9nS0VJQ0FnSUNLcDRpbnZRRRAB</td>\n",
       "      <td>Keven Menager</td>\n",
       "      <td>Soooo good!  Reliable and consistent quality e...</td>\n",
       "      <td>None</td>\n",
       "      <td>3 months ago</td>\n",
       "      <td>2021-08-06 10:45:09.575592-04:00</td>\n",
       "      <td>5 stars</td>\n",
       "    </tr>\n",
       "    <tr>\n",
       "      <th>1</th>\n",
       "      <td>ChZDSUhNMG9nS0VJQ0FnSUNhaWRQYVZREAE</td>\n",
       "      <td>negar khalili</td>\n",
       "      <td>The owner is very friendly and all staff are n...</td>\n",
       "      <td>None</td>\n",
       "      <td>3 days ago</td>\n",
       "      <td>2021-08-06 10:45:09.867387-04:00</td>\n",
       "      <td>5 stars</td>\n",
       "    </tr>\n",
       "    <tr>\n",
       "      <th>2</th>\n",
       "      <td>ChdDSUhNMG9nS0VJQ0FnSURxeHM2c3hBRRAB</td>\n",
       "      <td>Selda Oncel</td>\n",
       "      <td>We went there last week as a family. I can not...</td>\n",
       "      <td>None</td>\n",
       "      <td>4 weeks ago</td>\n",
       "      <td>2021-08-06 10:45:09.867387-04:00</td>\n",
       "      <td>5 stars</td>\n",
       "    </tr>\n",
       "    <tr>\n",
       "      <th>3</th>\n",
       "      <td>ChdDSUhNMG9nS0VJQ0FnSUNDazd1Z3F3RRAB</td>\n",
       "      <td>Catherine C</td>\n",
       "      <td>Nice outdoor seating area and excellent servic...</td>\n",
       "      <td>None</td>\n",
       "      <td>11 months ago</td>\n",
       "      <td>2021-08-06 10:45:09.867387-04:00</td>\n",
       "      <td>4 stars</td>\n",
       "    </tr>\n",
       "    <tr>\n",
       "      <th>4</th>\n",
       "      <td>ChdDSUhNMG9nS0VJQ0FnSURxMkluXzFBRRAB</td>\n",
       "      <td>Maria Minakakis</td>\n",
       "      <td>Incredible place, great menu and very good ser...</td>\n",
       "      <td>None</td>\n",
       "      <td>a month ago</td>\n",
       "      <td>2021-08-06 10:45:09.867387-04:00</td>\n",
       "      <td>5 stars</td>\n",
       "    </tr>\n",
       "    <tr>\n",
       "      <th>5</th>\n",
       "      <td>ChZDSUhNMG9nS0VJQ0FnSURxejdySVVREAE</td>\n",
       "      <td>Felis Dee</td>\n",
       "      <td>Wonderful and delicious Italian food and very ...</td>\n",
       "      <td>None</td>\n",
       "      <td>2 weeks ago</td>\n",
       "      <td>2021-08-06 10:45:09.868385-04:00</td>\n",
       "      <td>5 stars</td>\n",
       "    </tr>\n",
       "    <tr>\n",
       "      <th>6</th>\n",
       "      <td>ChZDSUhNMG9nS0VJQ0FnSUNxdzVPaUxBEAE</td>\n",
       "      <td>Tasha Dallimore</td>\n",
       "      <td>We came here on a whim and had the best Italia...</td>\n",
       "      <td>None</td>\n",
       "      <td>a month ago</td>\n",
       "      <td>2021-08-06 10:45:09.868385-04:00</td>\n",
       "      <td>5 stars</td>\n",
       "    </tr>\n",
       "    <tr>\n",
       "      <th>7</th>\n",
       "      <td>ChZDSUhNMG9nS0VJQ0FnSURxeXBIOFBnEAE</td>\n",
       "      <td>Asmeeta Ingale</td>\n",
       "      <td>Terrible service which is a shame as their foo...</td>\n",
       "      <td>None</td>\n",
       "      <td>a month ago</td>\n",
       "      <td>2021-08-06 10:45:09.868385-04:00</td>\n",
       "      <td>2 stars</td>\n",
       "    </tr>\n",
       "    <tr>\n",
       "      <th>8</th>\n",
       "      <td>ChZDSUhNMG9nS0VJQ0FnSUM0Mkp5bFdREAE</td>\n",
       "      <td>Bonnie Kook</td>\n",
       "      <td>Amazing food. My husband and I got the special...</td>\n",
       "      <td>None</td>\n",
       "      <td>2 years ago</td>\n",
       "      <td>2021-08-06 10:45:09.868385-04:00</td>\n",
       "      <td>5 stars</td>\n",
       "    </tr>\n",
       "    <tr>\n",
       "      <th>9</th>\n",
       "      <td>ChZDSUhNMG9nS0VJQ0FnSURDcnVLMEdBEAE</td>\n",
       "      <td>ivan perez</td>\n",
       "      <td>Nice place, service is amazing and the food ju...</td>\n",
       "      <td>None</td>\n",
       "      <td>10 months ago</td>\n",
       "      <td>2021-08-06 10:45:09.868385-04:00</td>\n",
       "      <td>5 stars</td>\n",
       "    </tr>\n",
       "  </tbody>\n",
       "</table>\n",
       "</div>"
      ],
      "text/plain": [
       "                                  revid             userid  \\\n",
       "0  ChdDSUhNMG9nS0VJQ0FnSUNLcDRpbnZRRRAB     Keven Menager    \n",
       "1   ChZDSUhNMG9nS0VJQ0FnSUNhaWRQYVZREAE     negar khalili    \n",
       "2  ChdDSUhNMG9nS0VJQ0FnSURxeHM2c3hBRRAB       Selda Oncel    \n",
       "3  ChdDSUhNMG9nS0VJQ0FnSUNDazd1Z3F3RRAB       Catherine C    \n",
       "4  ChdDSUhNMG9nS0VJQ0FnSURxMkluXzFBRRAB   Maria Minakakis    \n",
       "5   ChZDSUhNMG9nS0VJQ0FnSURxejdySVVREAE         Felis Dee    \n",
       "6   ChZDSUhNMG9nS0VJQ0FnSUNxdzVPaUxBEAE   Tasha Dallimore    \n",
       "7   ChZDSUhNMG9nS0VJQ0FnSURxeXBIOFBnEAE    Asmeeta Ingale    \n",
       "8   ChZDSUhNMG9nS0VJQ0FnSUM0Mkp5bFdREAE       Bonnie Kook    \n",
       "9   ChZDSUhNMG9nS0VJQ0FnSURDcnVLMEdBEAE        ivan perez    \n",
       "\n",
       "                                         review-text response-text  \\\n",
       "0  Soooo good!  Reliable and consistent quality e...          None   \n",
       "1  The owner is very friendly and all staff are n...          None   \n",
       "2  We went there last week as a family. I can not...          None   \n",
       "3  Nice outdoor seating area and excellent servic...          None   \n",
       "4  Incredible place, great menu and very good ser...          None   \n",
       "5  Wonderful and delicious Italian food and very ...          None   \n",
       "6  We came here on a whim and had the best Italia...          None   \n",
       "7  Terrible service which is a shame as their foo...          None   \n",
       "8  Amazing food. My husband and I got the special...          None   \n",
       "9  Nice place, service is amazing and the food ju...          None   \n",
       "\n",
       "  review-relative-date             review-retrieve-date     rating  \n",
       "0         3 months ago 2021-08-06 10:45:09.575592-04:00   5 stars   \n",
       "1           3 days ago 2021-08-06 10:45:09.867387-04:00   5 stars   \n",
       "2          4 weeks ago 2021-08-06 10:45:09.867387-04:00   5 stars   \n",
       "3        11 months ago 2021-08-06 10:45:09.867387-04:00   4 stars   \n",
       "4          a month ago 2021-08-06 10:45:09.867387-04:00   5 stars   \n",
       "5          2 weeks ago 2021-08-06 10:45:09.868385-04:00   5 stars   \n",
       "6          a month ago 2021-08-06 10:45:09.868385-04:00   5 stars   \n",
       "7          a month ago 2021-08-06 10:45:09.868385-04:00   2 stars   \n",
       "8          2 years ago 2021-08-06 10:45:09.868385-04:00   5 stars   \n",
       "9        10 months ago 2021-08-06 10:45:09.868385-04:00   5 stars   "
      ]
     },
     "execution_count": 4,
     "metadata": {},
     "output_type": "execute_result"
    }
   ],
   "source": [
    "review_df = get_reviews(driver)\n",
    "review_df"
   ]
  },
  {
   "cell_type": "code",
   "execution_count": 11,
   "metadata": {},
   "outputs": [
    {
     "data": {
      "text/plain": [
       "\"Soooo good!  Reliable and consistent quality every time. We've started ordering a bit more …\""
      ]
     },
     "execution_count": 11,
     "metadata": {},
     "output_type": "execute_result"
    }
   ],
   "source": [
    "review_df['review-text'][0]"
   ]
  },
  {
   "cell_type": "code",
   "execution_count": 9,
   "metadata": {},
   "outputs": [
    {
     "data": {
      "text/plain": [
       "'ChdDSUhNMG9nS0VJQ0FnSUNDNnZTSndRRRAB'"
      ]
     },
     "execution_count": 9,
     "metadata": {},
     "output_type": "execute_result"
    }
   ],
   "source": [
    "## how to find action menu to be able to click on later (which i didnt do here)\n",
    "# soup.find('button', class_='section-review-action-menu')['data-review-id']"
   ]
  },
  {
   "cell_type": "code",
   "execution_count": 49,
   "metadata": {},
   "outputs": [
    {
     "data": {
      "text/plain": [
       "[2215, 2686, 3202]"
      ]
     },
     "execution_count": 49,
     "metadata": {},
     "output_type": "execute_result"
    }
   ],
   "source": [
    "import re\n",
    "nlist = [rev.start() for rev in re.finditer('Response from the owner',soup.text)]\n",
    "nlist"
   ]
  },
  {
   "cell_type": "code",
   "execution_count": 13,
   "metadata": {},
   "outputs": [],
   "source": [
    "# from selenium.webdriver import ActionChains\n",
    "# # ActionChains(driver).click('more reviews').perform()\n",
    "# menu = driver.find_element_by_css_selector('.nav')\n"
   ]
  },
  {
   "cell_type": "code",
   "execution_count": 14,
   "metadata": {},
   "outputs": [],
   "source": [
    "# wait = WebDriverWait(driver, 2)\n",
    "# menu_bt = wait.until(EC.element_to_be_clickable(\n",
    "#                        (By.XPATH, '//button[@data-value=\\'Sort\\']')))\n"
   ]
  },
  {
   "cell_type": "code",
   "execution_count": 109,
   "metadata": {},
   "outputs": [
    {
     "name": "stdout",
     "output_type": "stream",
     "text": [
      "LINKS HERE [<selenium.webdriver.remote.webelement.WebElement (session=\"18073e2fd6da3dce317c722102032197\", element=\"ad1dea03-a620-4570-b58d-759ed723d31f\")>]\n"
     ]
    },
    {
     "ename": "ElementNotInteractableException",
     "evalue": "Message: element not interactable\n  (Session info: chrome=88.0.4324.190)\n",
     "output_type": "error",
     "traceback": [
      "\u001b[1;31m---------------------------------------------------------------------------\u001b[0m",
      "\u001b[1;31mElementNotInteractableException\u001b[0m           Traceback (most recent call last)",
      "\u001b[1;32m<ipython-input-109-b0160c45c3c2>\u001b[0m in \u001b[0;36m<module>\u001b[1;34m\u001b[0m\n\u001b[0;32m      3\u001b[0m \u001b[0mprint\u001b[0m\u001b[1;33m(\u001b[0m\u001b[1;34m'LINKS HERE'\u001b[0m\u001b[1;33m,\u001b[0m \u001b[0mlinks\u001b[0m\u001b[1;33m)\u001b[0m\u001b[1;33m\u001b[0m\u001b[1;33m\u001b[0m\u001b[0m\n\u001b[0;32m      4\u001b[0m \u001b[1;32mfor\u001b[0m \u001b[0ml\u001b[0m \u001b[1;32min\u001b[0m \u001b[0mlinks\u001b[0m\u001b[1;33m:\u001b[0m\u001b[1;33m\u001b[0m\u001b[1;33m\u001b[0m\u001b[0m\n\u001b[1;32m----> 5\u001b[1;33m     \u001b[0ml\u001b[0m\u001b[1;33m.\u001b[0m\u001b[0mclick\u001b[0m\u001b[1;33m(\u001b[0m\u001b[1;33m)\u001b[0m\u001b[1;33m\u001b[0m\u001b[1;33m\u001b[0m\u001b[0m\n\u001b[0m\u001b[0;32m      6\u001b[0m \u001b[0mtime\u001b[0m\u001b[1;33m.\u001b[0m\u001b[0msleep\u001b[0m\u001b[1;33m(\u001b[0m\u001b[1;36m2\u001b[0m\u001b[1;33m)\u001b[0m\u001b[1;33m\u001b[0m\u001b[1;33m\u001b[0m\u001b[0m\n",
      "\u001b[1;32m~\\Anaconda3\\envs\\NLP\\lib\\site-packages\\selenium\\webdriver\\remote\\webelement.py\u001b[0m in \u001b[0;36mclick\u001b[1;34m(self)\u001b[0m\n\u001b[0;32m     78\u001b[0m     \u001b[1;32mdef\u001b[0m \u001b[0mclick\u001b[0m\u001b[1;33m(\u001b[0m\u001b[0mself\u001b[0m\u001b[1;33m)\u001b[0m\u001b[1;33m:\u001b[0m\u001b[1;33m\u001b[0m\u001b[1;33m\u001b[0m\u001b[0m\n\u001b[0;32m     79\u001b[0m         \u001b[1;34m\"\"\"Clicks the element.\"\"\"\u001b[0m\u001b[1;33m\u001b[0m\u001b[1;33m\u001b[0m\u001b[0m\n\u001b[1;32m---> 80\u001b[1;33m         \u001b[0mself\u001b[0m\u001b[1;33m.\u001b[0m\u001b[0m_execute\u001b[0m\u001b[1;33m(\u001b[0m\u001b[0mCommand\u001b[0m\u001b[1;33m.\u001b[0m\u001b[0mCLICK_ELEMENT\u001b[0m\u001b[1;33m)\u001b[0m\u001b[1;33m\u001b[0m\u001b[1;33m\u001b[0m\u001b[0m\n\u001b[0m\u001b[0;32m     81\u001b[0m \u001b[1;33m\u001b[0m\u001b[0m\n\u001b[0;32m     82\u001b[0m     \u001b[1;32mdef\u001b[0m \u001b[0msubmit\u001b[0m\u001b[1;33m(\u001b[0m\u001b[0mself\u001b[0m\u001b[1;33m)\u001b[0m\u001b[1;33m:\u001b[0m\u001b[1;33m\u001b[0m\u001b[1;33m\u001b[0m\u001b[0m\n",
      "\u001b[1;32m~\\Anaconda3\\envs\\NLP\\lib\\site-packages\\selenium\\webdriver\\remote\\webelement.py\u001b[0m in \u001b[0;36m_execute\u001b[1;34m(self, command, params)\u001b[0m\n\u001b[0;32m    631\u001b[0m             \u001b[0mparams\u001b[0m \u001b[1;33m=\u001b[0m \u001b[1;33m{\u001b[0m\u001b[1;33m}\u001b[0m\u001b[1;33m\u001b[0m\u001b[1;33m\u001b[0m\u001b[0m\n\u001b[0;32m    632\u001b[0m         \u001b[0mparams\u001b[0m\u001b[1;33m[\u001b[0m\u001b[1;34m'id'\u001b[0m\u001b[1;33m]\u001b[0m \u001b[1;33m=\u001b[0m \u001b[0mself\u001b[0m\u001b[1;33m.\u001b[0m\u001b[0m_id\u001b[0m\u001b[1;33m\u001b[0m\u001b[1;33m\u001b[0m\u001b[0m\n\u001b[1;32m--> 633\u001b[1;33m         \u001b[1;32mreturn\u001b[0m \u001b[0mself\u001b[0m\u001b[1;33m.\u001b[0m\u001b[0m_parent\u001b[0m\u001b[1;33m.\u001b[0m\u001b[0mexecute\u001b[0m\u001b[1;33m(\u001b[0m\u001b[0mcommand\u001b[0m\u001b[1;33m,\u001b[0m \u001b[0mparams\u001b[0m\u001b[1;33m)\u001b[0m\u001b[1;33m\u001b[0m\u001b[1;33m\u001b[0m\u001b[0m\n\u001b[0m\u001b[0;32m    634\u001b[0m \u001b[1;33m\u001b[0m\u001b[0m\n\u001b[0;32m    635\u001b[0m     \u001b[1;32mdef\u001b[0m \u001b[0mfind_element\u001b[0m\u001b[1;33m(\u001b[0m\u001b[0mself\u001b[0m\u001b[1;33m,\u001b[0m \u001b[0mby\u001b[0m\u001b[1;33m=\u001b[0m\u001b[0mBy\u001b[0m\u001b[1;33m.\u001b[0m\u001b[0mID\u001b[0m\u001b[1;33m,\u001b[0m \u001b[0mvalue\u001b[0m\u001b[1;33m=\u001b[0m\u001b[1;32mNone\u001b[0m\u001b[1;33m)\u001b[0m\u001b[1;33m:\u001b[0m\u001b[1;33m\u001b[0m\u001b[1;33m\u001b[0m\u001b[0m\n",
      "\u001b[1;32m~\\Anaconda3\\envs\\NLP\\lib\\site-packages\\selenium\\webdriver\\remote\\webdriver.py\u001b[0m in \u001b[0;36mexecute\u001b[1;34m(self, driver_command, params)\u001b[0m\n\u001b[0;32m    319\u001b[0m         \u001b[0mresponse\u001b[0m \u001b[1;33m=\u001b[0m \u001b[0mself\u001b[0m\u001b[1;33m.\u001b[0m\u001b[0mcommand_executor\u001b[0m\u001b[1;33m.\u001b[0m\u001b[0mexecute\u001b[0m\u001b[1;33m(\u001b[0m\u001b[0mdriver_command\u001b[0m\u001b[1;33m,\u001b[0m \u001b[0mparams\u001b[0m\u001b[1;33m)\u001b[0m\u001b[1;33m\u001b[0m\u001b[1;33m\u001b[0m\u001b[0m\n\u001b[0;32m    320\u001b[0m         \u001b[1;32mif\u001b[0m \u001b[0mresponse\u001b[0m\u001b[1;33m:\u001b[0m\u001b[1;33m\u001b[0m\u001b[1;33m\u001b[0m\u001b[0m\n\u001b[1;32m--> 321\u001b[1;33m             \u001b[0mself\u001b[0m\u001b[1;33m.\u001b[0m\u001b[0merror_handler\u001b[0m\u001b[1;33m.\u001b[0m\u001b[0mcheck_response\u001b[0m\u001b[1;33m(\u001b[0m\u001b[0mresponse\u001b[0m\u001b[1;33m)\u001b[0m\u001b[1;33m\u001b[0m\u001b[1;33m\u001b[0m\u001b[0m\n\u001b[0m\u001b[0;32m    322\u001b[0m             response['value'] = self._unwrap_value(\n\u001b[0;32m    323\u001b[0m                 response.get('value', None))\n",
      "\u001b[1;32m~\\Anaconda3\\envs\\NLP\\lib\\site-packages\\selenium\\webdriver\\remote\\errorhandler.py\u001b[0m in \u001b[0;36mcheck_response\u001b[1;34m(self, response)\u001b[0m\n\u001b[0;32m    240\u001b[0m                 \u001b[0malert_text\u001b[0m \u001b[1;33m=\u001b[0m \u001b[0mvalue\u001b[0m\u001b[1;33m[\u001b[0m\u001b[1;34m'alert'\u001b[0m\u001b[1;33m]\u001b[0m\u001b[1;33m.\u001b[0m\u001b[0mget\u001b[0m\u001b[1;33m(\u001b[0m\u001b[1;34m'text'\u001b[0m\u001b[1;33m)\u001b[0m\u001b[1;33m\u001b[0m\u001b[1;33m\u001b[0m\u001b[0m\n\u001b[0;32m    241\u001b[0m             \u001b[1;32mraise\u001b[0m \u001b[0mexception_class\u001b[0m\u001b[1;33m(\u001b[0m\u001b[0mmessage\u001b[0m\u001b[1;33m,\u001b[0m \u001b[0mscreen\u001b[0m\u001b[1;33m,\u001b[0m \u001b[0mstacktrace\u001b[0m\u001b[1;33m,\u001b[0m \u001b[0malert_text\u001b[0m\u001b[1;33m)\u001b[0m\u001b[1;33m\u001b[0m\u001b[1;33m\u001b[0m\u001b[0m\n\u001b[1;32m--> 242\u001b[1;33m         \u001b[1;32mraise\u001b[0m \u001b[0mexception_class\u001b[0m\u001b[1;33m(\u001b[0m\u001b[0mmessage\u001b[0m\u001b[1;33m,\u001b[0m \u001b[0mscreen\u001b[0m\u001b[1;33m,\u001b[0m \u001b[0mstacktrace\u001b[0m\u001b[1;33m)\u001b[0m\u001b[1;33m\u001b[0m\u001b[1;33m\u001b[0m\u001b[0m\n\u001b[0m\u001b[0;32m    243\u001b[0m \u001b[1;33m\u001b[0m\u001b[0m\n\u001b[0;32m    244\u001b[0m     \u001b[1;32mdef\u001b[0m \u001b[0m_value_or_default\u001b[0m\u001b[1;33m(\u001b[0m\u001b[0mself\u001b[0m\u001b[1;33m,\u001b[0m \u001b[0mobj\u001b[0m\u001b[1;33m,\u001b[0m \u001b[0mkey\u001b[0m\u001b[1;33m,\u001b[0m \u001b[0mdefault\u001b[0m\u001b[1;33m)\u001b[0m\u001b[1;33m:\u001b[0m\u001b[1;33m\u001b[0m\u001b[1;33m\u001b[0m\u001b[0m\n",
      "\u001b[1;31mElementNotInteractableException\u001b[0m: Message: element not interactable\n  (Session info: chrome=88.0.4324.190)\n"
     ]
    }
   ],
   "source": [
    "## click on \"More Reviews\" as many times as needed to load all reviews taken from:\n",
    "## https://github.com/gaspa93/googlemaps-scraper, googlemaps.py\n",
    "import time\n",
    "links = driver.find_elements_by_xpath('//button[@jsaction=\\'pane.reviewChart.moreReviews\\']')\n",
    "print('LINKS HERE', links)\n",
    "for l in links:\n",
    "    l.click()\n",
    "time.sleep(2)\n"
   ]
  },
  {
   "cell_type": "code",
   "execution_count": 110,
   "metadata": {},
   "outputs": [
    {
     "data": {
      "text/plain": [
       "20"
      ]
     },
     "execution_count": 110,
     "metadata": {},
     "output_type": "execute_result"
    }
   ],
   "source": [
    "soup = BeautifulSoup(driver.page_source,'html.parser')\n",
    "rev_list = soup.find_all('div',class_='section-review-content')\n",
    "len(rev_list)"
   ]
  },
  {
   "cell_type": "code",
   "execution_count": 112,
   "metadata": {},
   "outputs": [],
   "source": [
    "import re\n",
    "respStart = [rev.start() for rev in re.finditer('Response from the owner',soup.text)]\n",
    "respEnd   = [rev.end() for rev in re.finditer('Response from the owner',soup.text)]"
   ]
  },
  {
   "cell_type": "code",
   "execution_count": 116,
   "metadata": {},
   "outputs": [],
   "source": [
    "# for ind,r in enumerate(respStart):\n",
    "#     print(soup.text[r:respEnd[ind]])\n",
    "#     print('\\n')"
   ]
  },
  {
   "cell_type": "code",
   "execution_count": 119,
   "metadata": {},
   "outputs": [
    {
     "data": {
      "text/plain": [
       "19"
      ]
     },
     "execution_count": 119,
     "metadata": {},
     "output_type": "execute_result"
    }
   ],
   "source": [
    "resp_list = soup.find_all('div',class_='section-review-owner-response')\n",
    "len(resp_list)"
   ]
  },
  {
   "cell_type": "code",
   "execution_count": 121,
   "metadata": {},
   "outputs": [
    {
     "data": {
      "text/plain": [
       "bs4.element.Tag"
      ]
     },
     "execution_count": 121,
     "metadata": {},
     "output_type": "execute_result"
    }
   ],
   "source": [
    "resp_list[0]."
   ]
  },
  {
   "cell_type": "code",
   "execution_count": 160,
   "metadata": {
    "scrolled": true
   },
   "outputs": [
    {
     "data": {
      "text/plain": [
       "''"
      ]
     },
     "execution_count": 160,
     "metadata": {},
     "output_type": "execute_result"
    }
   ],
   "source": [
    "soup.find_all('a',class_='gsst_a')[0].get_text()"
   ]
  },
  {
   "cell_type": "markdown",
   "metadata": {},
   "source": [
    "### There are 4 types of soup objects; <code> Tag </code>, <code> NavigableString </code>, <code> BeautifulSoup </code>, <code> Comment </code> \n",
    "<ul>\n",
    "    <li><b>Tag</b></li>\n",
    "           A Tag object corresponds to an XML or HTML tag in the original document:\n",
    "    <code> tag = soup.a \n",
    "        type(tag) </code>\n",
    "\n",
    "</ul>    \n",
    "\n",
    "Tags have a lot of attributes and methods, and I’ll cover most of them in Navigating the tree and Searching the tree. For now, the most important features of a tag are its name and attributes.\n",
    "\n",
    "Every tag has a name, accessible as .name:\n",
    "\n",
    "<code>tag.name\n",
    "#'b'</code>\n",
    "\n",
    "If you change a tag’s name, the change will be reflected in any HTML markup generated by Beautiful Soup:\n",
    "\n",
    "<code>tag.name = \"blockquote\"\n",
    "tag #<blockquote class=\"boldest\">Extremely bold</blockquote> </code>\n"
   ]
  },
  {
   "cell_type": "code",
   "execution_count": 185,
   "metadata": {},
   "outputs": [
    {
     "name": "stdout",
     "output_type": "stream",
     "text": [
      "0\n"
     ]
    },
    {
     "data": {
      "text/plain": [
       "['noprint', 'moveable-pane']"
      ]
     },
     "execution_count": 185,
     "metadata": {},
     "output_type": "execute_result"
    }
   ],
   "source": [
    "soup.a.get('role')\n",
    "print(len(soup.find_all('div',class_='section_review_content')))\n",
    "soup.find_all('div')[10]['class']"
   ]
  },
  {
   "cell_type": "code",
   "execution_count": 47,
   "metadata": {},
   "outputs": [
    {
     "data": {
      "text/plain": [
       "revid                                ChdDSUhNMG9nS0VJQ0FnSUNDNnZTSndRRRAB\n",
       "userid                                                       Hawrold Keys\n",
       "review-text             Cute little restaurant with great wines, good ...\n",
       "response-text                         What else? Thank you dear Hawrold !\n",
       "review-relative-date                                         6 months ago\n",
       "review-retrieve-date                     2021-03-03 19:01:39.547817-05:00\n",
       "rating                                                           5 stars \n",
       "Name: 0, dtype: object"
      ]
     },
     "execution_count": 47,
     "metadata": {},
     "output_type": "execute_result"
    }
   ],
   "source": [
    "review_df.iloc[0]"
   ]
  },
  {
   "cell_type": "code",
   "execution_count": 34,
   "metadata": {},
   "outputs": [
    {
     "data": {
      "text/plain": [
       "\"Dear Riani, thank you ! We're so glad you loved our food as much as our wines !\""
      ]
     },
     "execution_count": 34,
     "metadata": {},
     "output_type": "execute_result"
    }
   ],
   "source": [
    "review_df['response-text'][2]"
   ]
  }
 ],
 "metadata": {
  "kernelspec": {
   "display_name": "Python 3",
   "language": "python",
   "name": "python3"
  },
  "language_info": {
   "codemirror_mode": {
    "name": "ipython",
    "version": 3
   },
   "file_extension": ".py",
   "mimetype": "text/x-python",
   "name": "python",
   "nbconvert_exporter": "python",
   "pygments_lexer": "ipython3",
   "version": "3.9.1"
  }
 },
 "nbformat": 4,
 "nbformat_minor": 4
}
