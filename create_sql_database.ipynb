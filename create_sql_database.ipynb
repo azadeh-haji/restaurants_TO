{
 "cells": [
  {
   "cell_type": "markdown",
   "id": "major-edmonton",
   "metadata": {},
   "source": [
    "#### https://mungingdata.com/sqlite/create-database-load-csv-python/"
   ]
  },
  {
   "cell_type": "code",
   "execution_count": 1,
   "id": "complete-value",
   "metadata": {},
   "outputs": [],
   "source": [
    "from pathlib import Path\n",
    "database_folder = 'data/database/'\n",
    "Path (database_folder+'TorontoRestaurantReviewDatabase.db').touch()"
   ]
  },
  {
   "cell_type": "code",
   "execution_count": 2,
   "id": "signal-moldova",
   "metadata": {},
   "outputs": [],
   "source": [
    "import sqlite3\n",
    "\n",
    "conn = sqlite3.connect(database_folder+'TorontoRestaurantReviewDatabase.db') #,detect_types=0\n",
    "c = conn.cursor()"
   ]
  },
  {
   "cell_type": "code",
   "execution_count": 3,
   "id": "indian-florida",
   "metadata": {},
   "outputs": [],
   "source": [
    "# conn.close()"
   ]
  },
  {
   "cell_type": "code",
   "execution_count": 3,
   "id": "known-garage",
   "metadata": {},
   "outputs": [],
   "source": [
    "import pandas as pd\n",
    "# restaurants = pd.read_csv(database_folder+'restaurants.csv')\n",
    "reviews     = pd.read_csv(database_folder+'reviews.csv')\n",
    "# responses   = pd.read_csv(database_folder+'responses.csv')\n",
    "# web         = pd.read_csv(database_folder+'web.csv')\n",
    "# cuisine     = pd.read_csv(database_folder+'cuisine.csv')\n",
    "# location    = pd.read_csv(database_folder+'location.csv')\n"
   ]
  },
  {
   "cell_type": "code",
   "execution_count": 5,
   "id": "radical-creature",
   "metadata": {},
   "outputs": [
    {
     "data": {
      "text/plain": [
       "Index(['Unnamed: 0', 'Unnamed: 0.1', 'place_id', 'name_tripAdvisor',\n",
       "       'rank_tripAdvisor', 'name_google', 'cuisine', 'retrieve_date',\n",
       "       'rating_tripAdvisor', 'rating_google', 'status', 'review_count'],\n",
       "      dtype='object')"
      ]
     },
     "execution_count": 5,
     "metadata": {},
     "output_type": "execute_result"
    }
   ],
   "source": [
    "restaurants.columns"
   ]
  },
  {
   "cell_type": "code",
   "execution_count": 6,
   "id": "average-working",
   "metadata": {},
   "outputs": [
    {
     "data": {
      "text/plain": [
       "['place_id',\n",
       " 'name_tripAdvisor',\n",
       " 'rank_tripAdvisor',\n",
       " 'name_google',\n",
       " 'cuisine',\n",
       " 'retrieve_date',\n",
       " 'rating_tripAdvisor',\n",
       " 'rating_google',\n",
       " 'status',\n",
       " 'review_count']"
      ]
     },
     "execution_count": 6,
     "metadata": {},
     "output_type": "execute_result"
    }
   ],
   "source": [
    "restaurants.drop(columns=['Unnamed: 0', 'Unnamed: 0.1'],inplace=True)\n",
    "restaurants.columns.to_list()"
   ]
  },
  {
   "cell_type": "code",
   "execution_count": 7,
   "id": "iraqi-desktop",
   "metadata": {},
   "outputs": [
    {
     "data": {
      "text/plain": [
       "place_id               object\n",
       "name_tripAdvisor       object\n",
       "rank_tripAdvisor        int64\n",
       "name_google            object\n",
       "cuisine                object\n",
       "retrieve_date          object\n",
       "rating_tripAdvisor     object\n",
       "rating_google         float64\n",
       "status                 object\n",
       "review_count            int64\n",
       "dtype: object"
      ]
     },
     "execution_count": 7,
     "metadata": {},
     "output_type": "execute_result"
    }
   ],
   "source": [
    "restaurants.dtypes"
   ]
  },
  {
   "cell_type": "code",
   "execution_count": 8,
   "id": "binary-texas",
   "metadata": {},
   "outputs": [
    {
     "data": {
      "text/plain": [
       "0             Goodfellas Wood Oven Pizza\n",
       "1                    Moxie's Grill & Bar\n",
       "2       New Orleans Seafood & Steakhouse\n",
       "3                 Scaramouche Restaurant\n",
       "4                                    Alo\n",
       "                      ...               \n",
       "2163                 Simit the big bagel\n",
       "2164                        Fancy Franks\n",
       "2165                Watermark Restaurant\n",
       "2166                          Marzitelli\n",
       "2167                       Corner Grille\n",
       "Name: name_google, Length: 2168, dtype: object"
      ]
     },
     "execution_count": 8,
     "metadata": {},
     "output_type": "execute_result"
    }
   ],
   "source": [
    "restaurants['place_id']\n",
    "restaurants['name_google']"
   ]
  },
  {
   "cell_type": "code",
   "execution_count": 9,
   "id": "dirty-juice",
   "metadata": {},
   "outputs": [
    {
     "data": {
      "text/plain": [
       "<sqlite3.Cursor at 0x2baad9bc6c0>"
      ]
     },
     "execution_count": 9,
     "metadata": {},
     "output_type": "execute_result"
    }
   ],
   "source": [
    "# c.execute('''CREATE TABLE users (user_id int, username text)''')\n",
    "\n",
    "c.execute('''CREATE TABLE restaurants (place_id text PRIMARY KEY, name_tripAdvisor text, name_google text, cuisine text, \n",
    "status text, rank_tripAdvisor int, rating_tripAdvisor real, rating_google real, review_count int, retrieve_date text) ''')"
   ]
  },
  {
   "cell_type": "code",
   "execution_count": 10,
   "id": "drawn-alfred",
   "metadata": {},
   "outputs": [],
   "source": [
    "restaurants.to_sql('restaurants', conn, if_exists='replace', index=False)"
   ]
  },
  {
   "cell_type": "code",
   "execution_count": 11,
   "id": "surgical-brunswick",
   "metadata": {},
   "outputs": [
    {
     "data": {
      "text/plain": [
       "[('ChIJedJ0GGI2K4gR6dco_CjRntY',\n",
       "  '1. Goodfellas Wood Oven Pizza',\n",
       "  1,\n",
       "  'Goodfellas Wood Oven Pizza',\n",
       "  'Italian, Pizza',\n",
       "  '2021-08-09 19:15:40.484368-04:00',\n",
       "  '4.5 of 5 bubbles',\n",
       "  4.3,\n",
       "  'OPERATIONAL',\n",
       "  902),\n",
       " ('ChIJfQJkpzMyK4gRDnUt3YFXa5w',\n",
       "  \"2. Moxie's Grill & Bar\",\n",
       "  2,\n",
       "  \"Moxie's Grill & Bar\",\n",
       "  'Grill, Bar',\n",
       "  '2021-08-09 19:15:40.732702-04:00',\n",
       "  '4.5 of 5 bubbles',\n",
       "  4.0,\n",
       "  'OPERATIONAL',\n",
       "  1634),\n",
       " ('ChIJ466I-9o2K4gRxzeisSIQUzg',\n",
       "  '3. New Orleans Seafood & Steakhouse',\n",
       "  3,\n",
       "  'New Orleans Seafood & Steakhouse',\n",
       "  'Steakhouse, Cajun & Creole',\n",
       "  '2021-08-09 19:15:40.732702-04:00',\n",
       "  '4.5 of 5 bubbles',\n",
       "  4.8,\n",
       "  'OPERATIONAL',\n",
       "  587),\n",
       " ('ChIJrxCATO8zK4gRHe57JQWul2Q',\n",
       "  '4. Scaramouche Restaurant',\n",
       "  4,\n",
       "  'Scaramouche Restaurant',\n",
       "  'French, International',\n",
       "  '2021-08-09 19:15:40.732702-04:00',\n",
       "  '4.5 of 5 bubbles',\n",
       "  4.7,\n",
       "  'OPERATIONAL',\n",
       "  992),\n",
       " ('ChIJryijc9s0K4gRG9aU7SDTXdA',\n",
       "  '5. ALO RESTAURANT',\n",
       "  5,\n",
       "  'Alo',\n",
       "  'French, European',\n",
       "  '2021-08-09 19:15:40.732702-04:00',\n",
       "  '4.5 of 5 bubbles',\n",
       "  4.7,\n",
       "  'OPERATIONAL',\n",
       "  1353),\n",
       " ('ChIJf4hIwkXL1IkR1FE_9q56MKQ',\n",
       "  '6. The Tilted Dog Pub & Kitchen',\n",
       "  6,\n",
       "  'The Tilted Dog Pub & Kitchen',\n",
       "  'Bar, Pub',\n",
       "  '2021-08-09 19:15:40.732702-04:00',\n",
       "  '4.5 of 5 bubbles',\n",
       "  4.5,\n",
       "  'OPERATIONAL',\n",
       "  404),\n",
       " ('ChIJHwcmTRk2K4gRm85aUecgRe8',\n",
       "  '7. LaVinia Restaurant',\n",
       "  7,\n",
       "  'LaVinia Restaurant',\n",
       "  'Mediterranean, Spanish',\n",
       "  '2021-08-09 19:15:40.732702-04:00',\n",
       "  '4.5 of 5 bubbles',\n",
       "  4.6,\n",
       "  'OPERATIONAL',\n",
       "  418),\n",
       " ('ChIJmzR9dJU0K4gRj44f61gBfss',\n",
       "  '8. Rasa',\n",
       "  8,\n",
       "  'RASA',\n",
       "  'Canadian, International',\n",
       "  '2021-08-09 19:15:40.732702-04:00',\n",
       "  '4.5 of 5 bubbles',\n",
       "  4.6,\n",
       "  'OPERATIONAL',\n",
       "  591),\n",
       " ('ChIJ1ZGZKNk0K4gRaouNzuptWV8',\n",
       "  '9. Pai Northern Thai Kitchen',\n",
       "  9,\n",
       "  'PAI',\n",
       "  'Asian, Thai',\n",
       "  '2021-08-09 19:15:40.732702-04:00',\n",
       "  '4.5 of 5 bubbles',\n",
       "  4.6,\n",
       "  'OPERATIONAL',\n",
       "  8817),\n",
       " ('ChIJJZP2IzPL1IkRoIXM5dEE9ck',\n",
       "  '10. Richmond Station',\n",
       "  10,\n",
       "  'Richmond Station',\n",
       "  'American, International',\n",
       "  '2021-08-09 19:15:40.732702-04:00',\n",
       "  '4.5 of 5 bubbles',\n",
       "  4.7,\n",
       "  'OPERATIONAL',\n",
       "  2281)]"
      ]
     },
     "execution_count": 11,
     "metadata": {},
     "output_type": "execute_result"
    }
   ],
   "source": [
    "query = '''SELECT * FROM restaurants LIMIT 10'''\n",
    "c.execute(query)\n",
    "c.fetchall()"
   ]
  },
  {
   "cell_type": "code",
   "execution_count": 12,
   "id": "going-commercial",
   "metadata": {},
   "outputs": [
    {
     "data": {
      "text/html": [
       "<div>\n",
       "<style scoped>\n",
       "    .dataframe tbody tr th:only-of-type {\n",
       "        vertical-align: middle;\n",
       "    }\n",
       "\n",
       "    .dataframe tbody tr th {\n",
       "        vertical-align: top;\n",
       "    }\n",
       "\n",
       "    .dataframe thead th {\n",
       "        text-align: right;\n",
       "    }\n",
       "</style>\n",
       "<table border=\"1\" class=\"dataframe\">\n",
       "  <thead>\n",
       "    <tr style=\"text-align: right;\">\n",
       "      <th></th>\n",
       "      <th>place_id</th>\n",
       "      <th>name_tripAdvisor</th>\n",
       "      <th>rank_tripAdvisor</th>\n",
       "      <th>name_google</th>\n",
       "      <th>cuisine</th>\n",
       "      <th>retrieve_date</th>\n",
       "      <th>rating_tripAdvisor</th>\n",
       "      <th>rating_google</th>\n",
       "      <th>status</th>\n",
       "      <th>review_count</th>\n",
       "    </tr>\n",
       "  </thead>\n",
       "  <tbody>\n",
       "    <tr>\n",
       "      <th>0</th>\n",
       "      <td>ChIJedJ0GGI2K4gR6dco_CjRntY</td>\n",
       "      <td>1. Goodfellas Wood Oven Pizza</td>\n",
       "      <td>1</td>\n",
       "      <td>Goodfellas Wood Oven Pizza</td>\n",
       "      <td>Italian, Pizza</td>\n",
       "      <td>2021-08-09 19:15:40.484368-04:00</td>\n",
       "      <td>4.5 of 5 bubbles</td>\n",
       "      <td>4.3</td>\n",
       "      <td>OPERATIONAL</td>\n",
       "      <td>902</td>\n",
       "    </tr>\n",
       "    <tr>\n",
       "      <th>1</th>\n",
       "      <td>ChIJfQJkpzMyK4gRDnUt3YFXa5w</td>\n",
       "      <td>2. Moxie's Grill &amp; Bar</td>\n",
       "      <td>2</td>\n",
       "      <td>Moxie's Grill &amp; Bar</td>\n",
       "      <td>Grill, Bar</td>\n",
       "      <td>2021-08-09 19:15:40.732702-04:00</td>\n",
       "      <td>4.5 of 5 bubbles</td>\n",
       "      <td>4.0</td>\n",
       "      <td>OPERATIONAL</td>\n",
       "      <td>1634</td>\n",
       "    </tr>\n",
       "    <tr>\n",
       "      <th>2</th>\n",
       "      <td>ChIJ466I-9o2K4gRxzeisSIQUzg</td>\n",
       "      <td>3. New Orleans Seafood &amp; Steakhouse</td>\n",
       "      <td>3</td>\n",
       "      <td>New Orleans Seafood &amp; Steakhouse</td>\n",
       "      <td>Steakhouse, Cajun &amp; Creole</td>\n",
       "      <td>2021-08-09 19:15:40.732702-04:00</td>\n",
       "      <td>4.5 of 5 bubbles</td>\n",
       "      <td>4.8</td>\n",
       "      <td>OPERATIONAL</td>\n",
       "      <td>587</td>\n",
       "    </tr>\n",
       "    <tr>\n",
       "      <th>3</th>\n",
       "      <td>ChIJrxCATO8zK4gRHe57JQWul2Q</td>\n",
       "      <td>4. Scaramouche Restaurant</td>\n",
       "      <td>4</td>\n",
       "      <td>Scaramouche Restaurant</td>\n",
       "      <td>French, International</td>\n",
       "      <td>2021-08-09 19:15:40.732702-04:00</td>\n",
       "      <td>4.5 of 5 bubbles</td>\n",
       "      <td>4.7</td>\n",
       "      <td>OPERATIONAL</td>\n",
       "      <td>992</td>\n",
       "    </tr>\n",
       "    <tr>\n",
       "      <th>4</th>\n",
       "      <td>ChIJryijc9s0K4gRG9aU7SDTXdA</td>\n",
       "      <td>5. ALO RESTAURANT</td>\n",
       "      <td>5</td>\n",
       "      <td>Alo</td>\n",
       "      <td>French, European</td>\n",
       "      <td>2021-08-09 19:15:40.732702-04:00</td>\n",
       "      <td>4.5 of 5 bubbles</td>\n",
       "      <td>4.7</td>\n",
       "      <td>OPERATIONAL</td>\n",
       "      <td>1353</td>\n",
       "    </tr>\n",
       "    <tr>\n",
       "      <th>5</th>\n",
       "      <td>ChIJf4hIwkXL1IkR1FE_9q56MKQ</td>\n",
       "      <td>6. The Tilted Dog Pub &amp; Kitchen</td>\n",
       "      <td>6</td>\n",
       "      <td>The Tilted Dog Pub &amp; Kitchen</td>\n",
       "      <td>Bar, Pub</td>\n",
       "      <td>2021-08-09 19:15:40.732702-04:00</td>\n",
       "      <td>4.5 of 5 bubbles</td>\n",
       "      <td>4.5</td>\n",
       "      <td>OPERATIONAL</td>\n",
       "      <td>404</td>\n",
       "    </tr>\n",
       "    <tr>\n",
       "      <th>6</th>\n",
       "      <td>ChIJHwcmTRk2K4gRm85aUecgRe8</td>\n",
       "      <td>7. LaVinia Restaurant</td>\n",
       "      <td>7</td>\n",
       "      <td>LaVinia Restaurant</td>\n",
       "      <td>Mediterranean, Spanish</td>\n",
       "      <td>2021-08-09 19:15:40.732702-04:00</td>\n",
       "      <td>4.5 of 5 bubbles</td>\n",
       "      <td>4.6</td>\n",
       "      <td>OPERATIONAL</td>\n",
       "      <td>418</td>\n",
       "    </tr>\n",
       "    <tr>\n",
       "      <th>7</th>\n",
       "      <td>ChIJmzR9dJU0K4gRj44f61gBfss</td>\n",
       "      <td>8. Rasa</td>\n",
       "      <td>8</td>\n",
       "      <td>RASA</td>\n",
       "      <td>Canadian, International</td>\n",
       "      <td>2021-08-09 19:15:40.732702-04:00</td>\n",
       "      <td>4.5 of 5 bubbles</td>\n",
       "      <td>4.6</td>\n",
       "      <td>OPERATIONAL</td>\n",
       "      <td>591</td>\n",
       "    </tr>\n",
       "    <tr>\n",
       "      <th>8</th>\n",
       "      <td>ChIJ1ZGZKNk0K4gRaouNzuptWV8</td>\n",
       "      <td>9. Pai Northern Thai Kitchen</td>\n",
       "      <td>9</td>\n",
       "      <td>PAI</td>\n",
       "      <td>Asian, Thai</td>\n",
       "      <td>2021-08-09 19:15:40.732702-04:00</td>\n",
       "      <td>4.5 of 5 bubbles</td>\n",
       "      <td>4.6</td>\n",
       "      <td>OPERATIONAL</td>\n",
       "      <td>8817</td>\n",
       "    </tr>\n",
       "    <tr>\n",
       "      <th>9</th>\n",
       "      <td>ChIJJZP2IzPL1IkRoIXM5dEE9ck</td>\n",
       "      <td>10. Richmond Station</td>\n",
       "      <td>10</td>\n",
       "      <td>Richmond Station</td>\n",
       "      <td>American, International</td>\n",
       "      <td>2021-08-09 19:15:40.732702-04:00</td>\n",
       "      <td>4.5 of 5 bubbles</td>\n",
       "      <td>4.7</td>\n",
       "      <td>OPERATIONAL</td>\n",
       "      <td>2281</td>\n",
       "    </tr>\n",
       "  </tbody>\n",
       "</table>\n",
       "</div>"
      ],
      "text/plain": [
       "                      place_id                     name_tripAdvisor  \\\n",
       "0  ChIJedJ0GGI2K4gR6dco_CjRntY        1. Goodfellas Wood Oven Pizza   \n",
       "1  ChIJfQJkpzMyK4gRDnUt3YFXa5w               2. Moxie's Grill & Bar   \n",
       "2  ChIJ466I-9o2K4gRxzeisSIQUzg  3. New Orleans Seafood & Steakhouse   \n",
       "3  ChIJrxCATO8zK4gRHe57JQWul2Q            4. Scaramouche Restaurant   \n",
       "4  ChIJryijc9s0K4gRG9aU7SDTXdA                    5. ALO RESTAURANT   \n",
       "5  ChIJf4hIwkXL1IkR1FE_9q56MKQ      6. The Tilted Dog Pub & Kitchen   \n",
       "6  ChIJHwcmTRk2K4gRm85aUecgRe8                7. LaVinia Restaurant   \n",
       "7  ChIJmzR9dJU0K4gRj44f61gBfss                              8. Rasa   \n",
       "8  ChIJ1ZGZKNk0K4gRaouNzuptWV8         9. Pai Northern Thai Kitchen   \n",
       "9  ChIJJZP2IzPL1IkRoIXM5dEE9ck                 10. Richmond Station   \n",
       "\n",
       "   rank_tripAdvisor                       name_google  \\\n",
       "0                 1        Goodfellas Wood Oven Pizza   \n",
       "1                 2               Moxie's Grill & Bar   \n",
       "2                 3  New Orleans Seafood & Steakhouse   \n",
       "3                 4            Scaramouche Restaurant   \n",
       "4                 5                               Alo   \n",
       "5                 6      The Tilted Dog Pub & Kitchen   \n",
       "6                 7                LaVinia Restaurant   \n",
       "7                 8                              RASA   \n",
       "8                 9                               PAI   \n",
       "9                10                  Richmond Station   \n",
       "\n",
       "                      cuisine                     retrieve_date  \\\n",
       "0              Italian, Pizza  2021-08-09 19:15:40.484368-04:00   \n",
       "1                  Grill, Bar  2021-08-09 19:15:40.732702-04:00   \n",
       "2  Steakhouse, Cajun & Creole  2021-08-09 19:15:40.732702-04:00   \n",
       "3       French, International  2021-08-09 19:15:40.732702-04:00   \n",
       "4            French, European  2021-08-09 19:15:40.732702-04:00   \n",
       "5                    Bar, Pub  2021-08-09 19:15:40.732702-04:00   \n",
       "6      Mediterranean, Spanish  2021-08-09 19:15:40.732702-04:00   \n",
       "7     Canadian, International  2021-08-09 19:15:40.732702-04:00   \n",
       "8                 Asian, Thai  2021-08-09 19:15:40.732702-04:00   \n",
       "9     American, International  2021-08-09 19:15:40.732702-04:00   \n",
       "\n",
       "  rating_tripAdvisor  rating_google       status  review_count  \n",
       "0   4.5 of 5 bubbles            4.3  OPERATIONAL           902  \n",
       "1   4.5 of 5 bubbles            4.0  OPERATIONAL          1634  \n",
       "2   4.5 of 5 bubbles            4.8  OPERATIONAL           587  \n",
       "3   4.5 of 5 bubbles            4.7  OPERATIONAL           992  \n",
       "4   4.5 of 5 bubbles            4.7  OPERATIONAL          1353  \n",
       "5   4.5 of 5 bubbles            4.5  OPERATIONAL           404  \n",
       "6   4.5 of 5 bubbles            4.6  OPERATIONAL           418  \n",
       "7   4.5 of 5 bubbles            4.6  OPERATIONAL           591  \n",
       "8   4.5 of 5 bubbles            4.6  OPERATIONAL          8817  \n",
       "9   4.5 of 5 bubbles            4.7  OPERATIONAL          2281  "
      ]
     },
     "execution_count": 12,
     "metadata": {},
     "output_type": "execute_result"
    }
   ],
   "source": [
    "pd.read_sql(query, conn)"
   ]
  },
  {
   "cell_type": "code",
   "execution_count": 13,
   "id": "second-northwest",
   "metadata": {},
   "outputs": [
    {
     "data": {
      "text/html": [
       "<div>\n",
       "<style scoped>\n",
       "    .dataframe tbody tr th:only-of-type {\n",
       "        vertical-align: middle;\n",
       "    }\n",
       "\n",
       "    .dataframe tbody tr th {\n",
       "        vertical-align: top;\n",
       "    }\n",
       "\n",
       "    .dataframe thead th {\n",
       "        text-align: right;\n",
       "    }\n",
       "</style>\n",
       "<table border=\"1\" class=\"dataframe\">\n",
       "  <thead>\n",
       "    <tr style=\"text-align: right;\">\n",
       "      <th></th>\n",
       "      <th>place_id</th>\n",
       "      <th>name_tripAdvisor</th>\n",
       "      <th>rank_tripAdvisor</th>\n",
       "      <th>name_google</th>\n",
       "      <th>cuisine</th>\n",
       "      <th>retrieve_date</th>\n",
       "      <th>rating_tripAdvisor</th>\n",
       "      <th>rating_google</th>\n",
       "      <th>status</th>\n",
       "      <th>review_count</th>\n",
       "    </tr>\n",
       "  </thead>\n",
       "  <tbody>\n",
       "    <tr>\n",
       "      <th>0</th>\n",
       "      <td>ChIJedJ0GGI2K4gR6dco_CjRntY</td>\n",
       "      <td>1. Goodfellas Wood Oven Pizza</td>\n",
       "      <td>1</td>\n",
       "      <td>Goodfellas Wood Oven Pizza</td>\n",
       "      <td>Italian, Pizza</td>\n",
       "      <td>2021-08-09 19:15:40.484368-04:00</td>\n",
       "      <td>4.5 of 5 bubbles</td>\n",
       "      <td>4.3</td>\n",
       "      <td>OPERATIONAL</td>\n",
       "      <td>902</td>\n",
       "    </tr>\n",
       "    <tr>\n",
       "      <th>1</th>\n",
       "      <td>ChIJfQJkpzMyK4gRDnUt3YFXa5w</td>\n",
       "      <td>2. Moxie's Grill &amp; Bar</td>\n",
       "      <td>2</td>\n",
       "      <td>Moxie's Grill &amp; Bar</td>\n",
       "      <td>Grill, Bar</td>\n",
       "      <td>2021-08-09 19:15:40.732702-04:00</td>\n",
       "      <td>4.5 of 5 bubbles</td>\n",
       "      <td>4.0</td>\n",
       "      <td>OPERATIONAL</td>\n",
       "      <td>1634</td>\n",
       "    </tr>\n",
       "    <tr>\n",
       "      <th>2</th>\n",
       "      <td>ChIJ466I-9o2K4gRxzeisSIQUzg</td>\n",
       "      <td>3. New Orleans Seafood &amp; Steakhouse</td>\n",
       "      <td>3</td>\n",
       "      <td>New Orleans Seafood &amp; Steakhouse</td>\n",
       "      <td>Steakhouse, Cajun &amp; Creole</td>\n",
       "      <td>2021-08-09 19:15:40.732702-04:00</td>\n",
       "      <td>4.5 of 5 bubbles</td>\n",
       "      <td>4.8</td>\n",
       "      <td>OPERATIONAL</td>\n",
       "      <td>587</td>\n",
       "    </tr>\n",
       "    <tr>\n",
       "      <th>3</th>\n",
       "      <td>ChIJrxCATO8zK4gRHe57JQWul2Q</td>\n",
       "      <td>4. Scaramouche Restaurant</td>\n",
       "      <td>4</td>\n",
       "      <td>Scaramouche Restaurant</td>\n",
       "      <td>French, International</td>\n",
       "      <td>2021-08-09 19:15:40.732702-04:00</td>\n",
       "      <td>4.5 of 5 bubbles</td>\n",
       "      <td>4.7</td>\n",
       "      <td>OPERATIONAL</td>\n",
       "      <td>992</td>\n",
       "    </tr>\n",
       "    <tr>\n",
       "      <th>4</th>\n",
       "      <td>ChIJryijc9s0K4gRG9aU7SDTXdA</td>\n",
       "      <td>5. ALO RESTAURANT</td>\n",
       "      <td>5</td>\n",
       "      <td>Alo</td>\n",
       "      <td>French, European</td>\n",
       "      <td>2021-08-09 19:15:40.732702-04:00</td>\n",
       "      <td>4.5 of 5 bubbles</td>\n",
       "      <td>4.7</td>\n",
       "      <td>OPERATIONAL</td>\n",
       "      <td>1353</td>\n",
       "    </tr>\n",
       "    <tr>\n",
       "      <th>...</th>\n",
       "      <td>...</td>\n",
       "      <td>...</td>\n",
       "      <td>...</td>\n",
       "      <td>...</td>\n",
       "      <td>...</td>\n",
       "      <td>...</td>\n",
       "      <td>...</td>\n",
       "      <td>...</td>\n",
       "      <td>...</td>\n",
       "      <td>...</td>\n",
       "    </tr>\n",
       "    <tr>\n",
       "      <th>2163</th>\n",
       "      <td>ChIJ2XZ3tVXQ1IkRtd7R_IGVFHs</td>\n",
       "      <td>1504. Simit &amp; Chai Co.</td>\n",
       "      <td>1504</td>\n",
       "      <td>Simit the big bagel</td>\n",
       "      <td>Cafe, Turkish</td>\n",
       "      <td>2021-08-09 19:20:50.158843-04:00</td>\n",
       "      <td>NaN</td>\n",
       "      <td>NaN</td>\n",
       "      <td>OPERATIONAL</td>\n",
       "      <td>22</td>\n",
       "    </tr>\n",
       "    <tr>\n",
       "      <th>2164</th>\n",
       "      <td>ChIJP8IxfNs0K4gRPzz0XjSS1V0</td>\n",
       "      <td>1581. Fancy Franks Gourmet Hot Dogs</td>\n",
       "      <td>1581</td>\n",
       "      <td>Fancy Franks</td>\n",
       "      <td>Canadian, Fast food</td>\n",
       "      <td>2021-08-09 19:21:04.200514-04:00</td>\n",
       "      <td>NaN</td>\n",
       "      <td>NaN</td>\n",
       "      <td>OPERATIONAL</td>\n",
       "      <td>405</td>\n",
       "    </tr>\n",
       "    <tr>\n",
       "      <th>2165</th>\n",
       "      <td>ChIJu34dbAxD04kRny8N8yLWSi4</td>\n",
       "      <td>1582. Watermark Restaurant &amp; Lounge</td>\n",
       "      <td>1582</td>\n",
       "      <td>Watermark Restaurant</td>\n",
       "      <td>Italian, American</td>\n",
       "      <td>2021-08-09 19:21:04.200514-04:00</td>\n",
       "      <td>NaN</td>\n",
       "      <td>NaN</td>\n",
       "      <td>OPERATIONAL</td>\n",
       "      <td>259</td>\n",
       "    </tr>\n",
       "    <tr>\n",
       "      <th>2166</th>\n",
       "      <td>ChIJp1jFXvk1K4gRaKmLr_DxnAQ</td>\n",
       "      <td>1766. Ristorante Marzitelli</td>\n",
       "      <td>1766</td>\n",
       "      <td>Marzitelli</td>\n",
       "      <td>Italian, French</td>\n",
       "      <td>2021-08-09 19:21:48.732278-04:00</td>\n",
       "      <td>NaN</td>\n",
       "      <td>NaN</td>\n",
       "      <td>OPERATIONAL</td>\n",
       "      <td>118</td>\n",
       "    </tr>\n",
       "    <tr>\n",
       "      <th>2167</th>\n",
       "      <td>ChIJI8wE6OoG5IkRl9LO-M2dlEU</td>\n",
       "      <td>1864. Pete’s Corner Grill</td>\n",
       "      <td>1864</td>\n",
       "      <td>Corner Grille</td>\n",
       "      <td>Canadian, Cafe</td>\n",
       "      <td>2021-08-09 19:22:17.856666-04:00</td>\n",
       "      <td>NaN</td>\n",
       "      <td>NaN</td>\n",
       "      <td>CLOSED_PERMANENTLY</td>\n",
       "      <td>235</td>\n",
       "    </tr>\n",
       "  </tbody>\n",
       "</table>\n",
       "<p>2168 rows × 10 columns</p>\n",
       "</div>"
      ],
      "text/plain": [
       "                         place_id                     name_tripAdvisor  \\\n",
       "0     ChIJedJ0GGI2K4gR6dco_CjRntY        1. Goodfellas Wood Oven Pizza   \n",
       "1     ChIJfQJkpzMyK4gRDnUt3YFXa5w               2. Moxie's Grill & Bar   \n",
       "2     ChIJ466I-9o2K4gRxzeisSIQUzg  3. New Orleans Seafood & Steakhouse   \n",
       "3     ChIJrxCATO8zK4gRHe57JQWul2Q            4. Scaramouche Restaurant   \n",
       "4     ChIJryijc9s0K4gRG9aU7SDTXdA                    5. ALO RESTAURANT   \n",
       "...                           ...                                  ...   \n",
       "2163  ChIJ2XZ3tVXQ1IkRtd7R_IGVFHs               1504. Simit & Chai Co.   \n",
       "2164  ChIJP8IxfNs0K4gRPzz0XjSS1V0  1581. Fancy Franks Gourmet Hot Dogs   \n",
       "2165  ChIJu34dbAxD04kRny8N8yLWSi4  1582. Watermark Restaurant & Lounge   \n",
       "2166  ChIJp1jFXvk1K4gRaKmLr_DxnAQ          1766. Ristorante Marzitelli   \n",
       "2167  ChIJI8wE6OoG5IkRl9LO-M2dlEU            1864. Pete’s Corner Grill   \n",
       "\n",
       "      rank_tripAdvisor                       name_google  \\\n",
       "0                    1        Goodfellas Wood Oven Pizza   \n",
       "1                    2               Moxie's Grill & Bar   \n",
       "2                    3  New Orleans Seafood & Steakhouse   \n",
       "3                    4            Scaramouche Restaurant   \n",
       "4                    5                               Alo   \n",
       "...                ...                               ...   \n",
       "2163              1504               Simit the big bagel   \n",
       "2164              1581                      Fancy Franks   \n",
       "2165              1582              Watermark Restaurant   \n",
       "2166              1766                        Marzitelli   \n",
       "2167              1864                     Corner Grille   \n",
       "\n",
       "                         cuisine                     retrieve_date  \\\n",
       "0                 Italian, Pizza  2021-08-09 19:15:40.484368-04:00   \n",
       "1                     Grill, Bar  2021-08-09 19:15:40.732702-04:00   \n",
       "2     Steakhouse, Cajun & Creole  2021-08-09 19:15:40.732702-04:00   \n",
       "3          French, International  2021-08-09 19:15:40.732702-04:00   \n",
       "4               French, European  2021-08-09 19:15:40.732702-04:00   \n",
       "...                          ...                               ...   \n",
       "2163               Cafe, Turkish  2021-08-09 19:20:50.158843-04:00   \n",
       "2164         Canadian, Fast food  2021-08-09 19:21:04.200514-04:00   \n",
       "2165           Italian, American  2021-08-09 19:21:04.200514-04:00   \n",
       "2166             Italian, French  2021-08-09 19:21:48.732278-04:00   \n",
       "2167              Canadian, Cafe  2021-08-09 19:22:17.856666-04:00   \n",
       "\n",
       "     rating_tripAdvisor  rating_google              status  review_count  \n",
       "0      4.5 of 5 bubbles            4.3         OPERATIONAL           902  \n",
       "1      4.5 of 5 bubbles            4.0         OPERATIONAL          1634  \n",
       "2      4.5 of 5 bubbles            4.8         OPERATIONAL           587  \n",
       "3      4.5 of 5 bubbles            4.7         OPERATIONAL           992  \n",
       "4      4.5 of 5 bubbles            4.7         OPERATIONAL          1353  \n",
       "...                 ...            ...                 ...           ...  \n",
       "2163                NaN            NaN         OPERATIONAL            22  \n",
       "2164                NaN            NaN         OPERATIONAL           405  \n",
       "2165                NaN            NaN         OPERATIONAL           259  \n",
       "2166                NaN            NaN         OPERATIONAL           118  \n",
       "2167                NaN            NaN  CLOSED_PERMANENTLY           235  \n",
       "\n",
       "[2168 rows x 10 columns]"
      ]
     },
     "execution_count": 13,
     "metadata": {},
     "output_type": "execute_result"
    }
   ],
   "source": [
    "restaurants"
   ]
  },
  {
   "cell_type": "code",
   "execution_count": 14,
   "id": "adapted-fifty",
   "metadata": {},
   "outputs": [
    {
     "data": {
      "text/plain": [
       "Unnamed: 0                 int64\n",
       "place_id                  object\n",
       "name_google               object\n",
       "category_tripAdvisor_1    object\n",
       "category_tripAdvisor_2    object\n",
       "dtype: object"
      ]
     },
     "execution_count": 14,
     "metadata": {},
     "output_type": "execute_result"
    }
   ],
   "source": [
    "cuisine.dtypes"
   ]
  },
  {
   "cell_type": "code",
   "execution_count": 15,
   "id": "variable-devices",
   "metadata": {},
   "outputs": [
    {
     "data": {
      "text/html": [
       "<div>\n",
       "<style scoped>\n",
       "    .dataframe tbody tr th:only-of-type {\n",
       "        vertical-align: middle;\n",
       "    }\n",
       "\n",
       "    .dataframe tbody tr th {\n",
       "        vertical-align: top;\n",
       "    }\n",
       "\n",
       "    .dataframe thead th {\n",
       "        text-align: right;\n",
       "    }\n",
       "</style>\n",
       "<table border=\"1\" class=\"dataframe\">\n",
       "  <thead>\n",
       "    <tr style=\"text-align: right;\">\n",
       "      <th></th>\n",
       "      <th>place_id</th>\n",
       "      <th>name_google</th>\n",
       "      <th>category_tripAdvisor_1</th>\n",
       "      <th>category_tripAdvisor_2</th>\n",
       "    </tr>\n",
       "  </thead>\n",
       "  <tbody>\n",
       "    <tr>\n",
       "      <th>0</th>\n",
       "      <td>ChIJedJ0GGI2K4gR6dco_CjRntY</td>\n",
       "      <td>Goodfellas Wood Oven Pizza</td>\n",
       "      <td>Italian</td>\n",
       "      <td>Pizza</td>\n",
       "    </tr>\n",
       "    <tr>\n",
       "      <th>1</th>\n",
       "      <td>ChIJfQJkpzMyK4gRDnUt3YFXa5w</td>\n",
       "      <td>Moxie's Grill &amp; Bar</td>\n",
       "      <td>Grill</td>\n",
       "      <td>Bar</td>\n",
       "    </tr>\n",
       "    <tr>\n",
       "      <th>2</th>\n",
       "      <td>ChIJ466I-9o2K4gRxzeisSIQUzg</td>\n",
       "      <td>New Orleans Seafood &amp; Steakhouse</td>\n",
       "      <td>Steakhouse</td>\n",
       "      <td>Cajun &amp; Creole</td>\n",
       "    </tr>\n",
       "    <tr>\n",
       "      <th>3</th>\n",
       "      <td>ChIJrxCATO8zK4gRHe57JQWul2Q</td>\n",
       "      <td>Scaramouche Restaurant</td>\n",
       "      <td>French</td>\n",
       "      <td>International</td>\n",
       "    </tr>\n",
       "    <tr>\n",
       "      <th>4</th>\n",
       "      <td>ChIJryijc9s0K4gRG9aU7SDTXdA</td>\n",
       "      <td>Alo</td>\n",
       "      <td>French</td>\n",
       "      <td>European</td>\n",
       "    </tr>\n",
       "    <tr>\n",
       "      <th>...</th>\n",
       "      <td>...</td>\n",
       "      <td>...</td>\n",
       "      <td>...</td>\n",
       "      <td>...</td>\n",
       "    </tr>\n",
       "    <tr>\n",
       "      <th>2163</th>\n",
       "      <td>ChIJ2XZ3tVXQ1IkRtd7R_IGVFHs</td>\n",
       "      <td>Simit the big bagel</td>\n",
       "      <td>Cafe</td>\n",
       "      <td>Turkish</td>\n",
       "    </tr>\n",
       "    <tr>\n",
       "      <th>2164</th>\n",
       "      <td>ChIJP8IxfNs0K4gRPzz0XjSS1V0</td>\n",
       "      <td>Fancy Franks</td>\n",
       "      <td>Canadian</td>\n",
       "      <td>Fast food</td>\n",
       "    </tr>\n",
       "    <tr>\n",
       "      <th>2165</th>\n",
       "      <td>ChIJu34dbAxD04kRny8N8yLWSi4</td>\n",
       "      <td>Watermark Restaurant</td>\n",
       "      <td>Italian</td>\n",
       "      <td>American</td>\n",
       "    </tr>\n",
       "    <tr>\n",
       "      <th>2166</th>\n",
       "      <td>ChIJp1jFXvk1K4gRaKmLr_DxnAQ</td>\n",
       "      <td>Marzitelli</td>\n",
       "      <td>Italian</td>\n",
       "      <td>French</td>\n",
       "    </tr>\n",
       "    <tr>\n",
       "      <th>2167</th>\n",
       "      <td>ChIJI8wE6OoG5IkRl9LO-M2dlEU</td>\n",
       "      <td>Corner Grille</td>\n",
       "      <td>Canadian</td>\n",
       "      <td>Cafe</td>\n",
       "    </tr>\n",
       "  </tbody>\n",
       "</table>\n",
       "<p>2168 rows × 4 columns</p>\n",
       "</div>"
      ],
      "text/plain": [
       "                         place_id                       name_google  \\\n",
       "0     ChIJedJ0GGI2K4gR6dco_CjRntY        Goodfellas Wood Oven Pizza   \n",
       "1     ChIJfQJkpzMyK4gRDnUt3YFXa5w               Moxie's Grill & Bar   \n",
       "2     ChIJ466I-9o2K4gRxzeisSIQUzg  New Orleans Seafood & Steakhouse   \n",
       "3     ChIJrxCATO8zK4gRHe57JQWul2Q            Scaramouche Restaurant   \n",
       "4     ChIJryijc9s0K4gRG9aU7SDTXdA                               Alo   \n",
       "...                           ...                               ...   \n",
       "2163  ChIJ2XZ3tVXQ1IkRtd7R_IGVFHs               Simit the big bagel   \n",
       "2164  ChIJP8IxfNs0K4gRPzz0XjSS1V0                      Fancy Franks   \n",
       "2165  ChIJu34dbAxD04kRny8N8yLWSi4              Watermark Restaurant   \n",
       "2166  ChIJp1jFXvk1K4gRaKmLr_DxnAQ                        Marzitelli   \n",
       "2167  ChIJI8wE6OoG5IkRl9LO-M2dlEU                     Corner Grille   \n",
       "\n",
       "     category_tripAdvisor_1 category_tripAdvisor_2  \n",
       "0                   Italian                  Pizza  \n",
       "1                     Grill                    Bar  \n",
       "2                Steakhouse         Cajun & Creole  \n",
       "3                    French          International  \n",
       "4                    French               European  \n",
       "...                     ...                    ...  \n",
       "2163                   Cafe                Turkish  \n",
       "2164               Canadian              Fast food  \n",
       "2165                Italian               American  \n",
       "2166                Italian                 French  \n",
       "2167               Canadian                   Cafe  \n",
       "\n",
       "[2168 rows x 4 columns]"
      ]
     },
     "execution_count": 15,
     "metadata": {},
     "output_type": "execute_result"
    }
   ],
   "source": [
    "cuisine.drop(columns='Unnamed: 0', inplace=True)\n",
    "cuisine"
   ]
  },
  {
   "cell_type": "code",
   "execution_count": 16,
   "id": "automotive-discussion",
   "metadata": {
    "scrolled": true
   },
   "outputs": [
    {
     "data": {
      "text/plain": [
       "<sqlite3.Cursor at 0x2baad9bc6c0>"
      ]
     },
     "execution_count": 16,
     "metadata": {},
     "output_type": "execute_result"
    }
   ],
   "source": [
    "c.execute('''CREATE TABLE cuisine (place_id text, name_google text, category_tripAdvisor_1 text, \n",
    "category_tripAdvisor_2 text, FOREIGN KEY(place_id) REFERENCES restaurants(place_id)) ''')"
   ]
  },
  {
   "cell_type": "code",
   "execution_count": 17,
   "id": "included-nashville",
   "metadata": {},
   "outputs": [],
   "source": [
    "cuisine.to_sql('cuisine', conn, if_exists='replace', index=False)"
   ]
  },
  {
   "cell_type": "code",
   "execution_count": 18,
   "id": "economic-missile",
   "metadata": {},
   "outputs": [
    {
     "data": {
      "text/plain": [
       "[('ChIJedJ0GGI2K4gR6dco_CjRntY',\n",
       "  'Goodfellas Wood Oven Pizza',\n",
       "  'Italian',\n",
       "  'Pizza'),\n",
       " ('ChIJfQJkpzMyK4gRDnUt3YFXa5w', \"Moxie's Grill & Bar\", 'Grill', 'Bar'),\n",
       " ('ChIJ466I-9o2K4gRxzeisSIQUzg',\n",
       "  'New Orleans Seafood & Steakhouse',\n",
       "  'Steakhouse',\n",
       "  'Cajun & Creole'),\n",
       " ('ChIJrxCATO8zK4gRHe57JQWul2Q',\n",
       "  'Scaramouche Restaurant',\n",
       "  'French',\n",
       "  'International'),\n",
       " ('ChIJryijc9s0K4gRG9aU7SDTXdA', 'Alo', 'French', 'European'),\n",
       " ('ChIJf4hIwkXL1IkR1FE_9q56MKQ', 'The Tilted Dog Pub & Kitchen', 'Bar', 'Pub'),\n",
       " ('ChIJHwcmTRk2K4gRm85aUecgRe8',\n",
       "  'LaVinia Restaurant',\n",
       "  'Mediterranean',\n",
       "  'Spanish'),\n",
       " ('ChIJmzR9dJU0K4gRj44f61gBfss', 'RASA', 'Canadian', 'International'),\n",
       " ('ChIJ1ZGZKNk0K4gRaouNzuptWV8', 'PAI', 'Asian', 'Thai'),\n",
       " ('ChIJJZP2IzPL1IkRoIXM5dEE9ck',\n",
       "  'Richmond Station',\n",
       "  'American',\n",
       "  'International')]"
      ]
     },
     "execution_count": 18,
     "metadata": {},
     "output_type": "execute_result"
    }
   ],
   "source": [
    "query = '''SELECT * FROM cuisine LIMIT 10'''\n",
    "c.execute(query)\n",
    "c.fetchall()"
   ]
  },
  {
   "cell_type": "code",
   "execution_count": 19,
   "id": "flush-sharp",
   "metadata": {},
   "outputs": [
    {
     "data": {
      "text/html": [
       "<div>\n",
       "<style scoped>\n",
       "    .dataframe tbody tr th:only-of-type {\n",
       "        vertical-align: middle;\n",
       "    }\n",
       "\n",
       "    .dataframe tbody tr th {\n",
       "        vertical-align: top;\n",
       "    }\n",
       "\n",
       "    .dataframe thead th {\n",
       "        text-align: right;\n",
       "    }\n",
       "</style>\n",
       "<table border=\"1\" class=\"dataframe\">\n",
       "  <thead>\n",
       "    <tr style=\"text-align: right;\">\n",
       "      <th></th>\n",
       "      <th>place_id</th>\n",
       "      <th>name_google</th>\n",
       "      <th>category_tripAdvisor_1</th>\n",
       "      <th>category_tripAdvisor_2</th>\n",
       "    </tr>\n",
       "  </thead>\n",
       "  <tbody>\n",
       "    <tr>\n",
       "      <th>0</th>\n",
       "      <td>ChIJedJ0GGI2K4gR6dco_CjRntY</td>\n",
       "      <td>Goodfellas Wood Oven Pizza</td>\n",
       "      <td>Italian</td>\n",
       "      <td>Pizza</td>\n",
       "    </tr>\n",
       "    <tr>\n",
       "      <th>1</th>\n",
       "      <td>ChIJfQJkpzMyK4gRDnUt3YFXa5w</td>\n",
       "      <td>Moxie's Grill &amp; Bar</td>\n",
       "      <td>Grill</td>\n",
       "      <td>Bar</td>\n",
       "    </tr>\n",
       "    <tr>\n",
       "      <th>2</th>\n",
       "      <td>ChIJ466I-9o2K4gRxzeisSIQUzg</td>\n",
       "      <td>New Orleans Seafood &amp; Steakhouse</td>\n",
       "      <td>Steakhouse</td>\n",
       "      <td>Cajun &amp; Creole</td>\n",
       "    </tr>\n",
       "    <tr>\n",
       "      <th>3</th>\n",
       "      <td>ChIJrxCATO8zK4gRHe57JQWul2Q</td>\n",
       "      <td>Scaramouche Restaurant</td>\n",
       "      <td>French</td>\n",
       "      <td>International</td>\n",
       "    </tr>\n",
       "    <tr>\n",
       "      <th>4</th>\n",
       "      <td>ChIJryijc9s0K4gRG9aU7SDTXdA</td>\n",
       "      <td>Alo</td>\n",
       "      <td>French</td>\n",
       "      <td>European</td>\n",
       "    </tr>\n",
       "    <tr>\n",
       "      <th>5</th>\n",
       "      <td>ChIJf4hIwkXL1IkR1FE_9q56MKQ</td>\n",
       "      <td>The Tilted Dog Pub &amp; Kitchen</td>\n",
       "      <td>Bar</td>\n",
       "      <td>Pub</td>\n",
       "    </tr>\n",
       "    <tr>\n",
       "      <th>6</th>\n",
       "      <td>ChIJHwcmTRk2K4gRm85aUecgRe8</td>\n",
       "      <td>LaVinia Restaurant</td>\n",
       "      <td>Mediterranean</td>\n",
       "      <td>Spanish</td>\n",
       "    </tr>\n",
       "    <tr>\n",
       "      <th>7</th>\n",
       "      <td>ChIJmzR9dJU0K4gRj44f61gBfss</td>\n",
       "      <td>RASA</td>\n",
       "      <td>Canadian</td>\n",
       "      <td>International</td>\n",
       "    </tr>\n",
       "    <tr>\n",
       "      <th>8</th>\n",
       "      <td>ChIJ1ZGZKNk0K4gRaouNzuptWV8</td>\n",
       "      <td>PAI</td>\n",
       "      <td>Asian</td>\n",
       "      <td>Thai</td>\n",
       "    </tr>\n",
       "    <tr>\n",
       "      <th>9</th>\n",
       "      <td>ChIJJZP2IzPL1IkRoIXM5dEE9ck</td>\n",
       "      <td>Richmond Station</td>\n",
       "      <td>American</td>\n",
       "      <td>International</td>\n",
       "    </tr>\n",
       "  </tbody>\n",
       "</table>\n",
       "</div>"
      ],
      "text/plain": [
       "                      place_id                       name_google  \\\n",
       "0  ChIJedJ0GGI2K4gR6dco_CjRntY        Goodfellas Wood Oven Pizza   \n",
       "1  ChIJfQJkpzMyK4gRDnUt3YFXa5w               Moxie's Grill & Bar   \n",
       "2  ChIJ466I-9o2K4gRxzeisSIQUzg  New Orleans Seafood & Steakhouse   \n",
       "3  ChIJrxCATO8zK4gRHe57JQWul2Q            Scaramouche Restaurant   \n",
       "4  ChIJryijc9s0K4gRG9aU7SDTXdA                               Alo   \n",
       "5  ChIJf4hIwkXL1IkR1FE_9q56MKQ      The Tilted Dog Pub & Kitchen   \n",
       "6  ChIJHwcmTRk2K4gRm85aUecgRe8                LaVinia Restaurant   \n",
       "7  ChIJmzR9dJU0K4gRj44f61gBfss                              RASA   \n",
       "8  ChIJ1ZGZKNk0K4gRaouNzuptWV8                               PAI   \n",
       "9  ChIJJZP2IzPL1IkRoIXM5dEE9ck                  Richmond Station   \n",
       "\n",
       "  category_tripAdvisor_1 category_tripAdvisor_2  \n",
       "0                Italian                  Pizza  \n",
       "1                  Grill                    Bar  \n",
       "2             Steakhouse         Cajun & Creole  \n",
       "3                 French          International  \n",
       "4                 French               European  \n",
       "5                    Bar                    Pub  \n",
       "6          Mediterranean                Spanish  \n",
       "7               Canadian          International  \n",
       "8                  Asian                   Thai  \n",
       "9               American          International  "
      ]
     },
     "execution_count": 19,
     "metadata": {},
     "output_type": "execute_result"
    }
   ],
   "source": [
    "pd.read_sql(query, conn)"
   ]
  },
  {
   "cell_type": "code",
   "execution_count": 4,
   "id": "after-finder",
   "metadata": {},
   "outputs": [
    {
     "data": {
      "text/plain": [
       "Index(['Unnamed: 0', 'review_id', 'user_id', 'rating', 'text',\n",
       "       'date_retrieved', 'date_relative', 'place_id'],\n",
       "      dtype='object')"
      ]
     },
     "execution_count": 4,
     "metadata": {},
     "output_type": "execute_result"
    }
   ],
   "source": [
    "reviews.columns"
   ]
  },
  {
   "cell_type": "code",
   "execution_count": 5,
   "id": "applicable-personality",
   "metadata": {},
   "outputs": [
    {
     "data": {
      "text/plain": [
       "Index(['review_id', 'user_id', 'rating', 'text', 'date_retrieved',\n",
       "       'date_relative', 'place_id'],\n",
       "      dtype='object')"
      ]
     },
     "execution_count": 5,
     "metadata": {},
     "output_type": "execute_result"
    }
   ],
   "source": [
    "reviews.drop(columns='Unnamed: 0', inplace=True)\n",
    "reviews.columns"
   ]
  },
  {
   "cell_type": "code",
   "execution_count": 6,
   "id": "surgical-closing",
   "metadata": {},
   "outputs": [
    {
     "data": {
      "text/plain": [
       "review_id          object\n",
       "user_id            object\n",
       "rating            float64\n",
       "text               object\n",
       "date_retrieved     object\n",
       "date_relative      object\n",
       "place_id           object\n",
       "dtype: object"
      ]
     },
     "execution_count": 6,
     "metadata": {},
     "output_type": "execute_result"
    }
   ],
   "source": [
    "reviews.dtypes"
   ]
  },
  {
   "cell_type": "code",
   "execution_count": 7,
   "id": "distant-johns",
   "metadata": {},
   "outputs": [
    {
     "data": {
      "text/plain": [
       "0                    Erika W \n",
       "1           Camilla Guberman \n",
       "2          camille epondulan \n",
       "3                   Diana Su \n",
       "4           Zainab Abu Alrob \n",
       "                 ...         \n",
       "378256          Geoff Banyai \n",
       "378257            Rory Young \n",
       "378258      Andrew Grimminck \n",
       "378259        Matthew George \n",
       "378260         Dan Stallings \n",
       "Name: user_id, Length: 378261, dtype: object"
      ]
     },
     "execution_count": 7,
     "metadata": {},
     "output_type": "execute_result"
    }
   ],
   "source": [
    "reviews.user_id"
   ]
  },
  {
   "cell_type": "code",
   "execution_count": 10,
   "id": "thorough-december",
   "metadata": {},
   "outputs": [
    {
     "data": {
      "text/plain": [
       "<sqlite3.Cursor at 0x1dfe5ec4650>"
      ]
     },
     "execution_count": 10,
     "metadata": {},
     "output_type": "execute_result"
    }
   ],
   "source": [
    "c.execute('''DROP TABLE reviews''')"
   ]
  },
  {
   "cell_type": "code",
   "execution_count": 11,
   "id": "patent-selling",
   "metadata": {},
   "outputs": [
    {
     "data": {
      "text/plain": [
       "[('ChZDSUhNMG9nS0VJQ0FnSUNheHZyeFN3EAE',\n",
       "  ' Erika W ',\n",
       "  3.0,\n",
       "  \"The calzone was tasty! Felt a bit heavy on the bread portion but If you order extra sauce, It's useful for dipping it in. They charged $3 for mushrooms to be added, which is a bit higher than the standard. The wine sangria fell a bit flat …\",\n",
       "  '2021-08-16 12:31:12.620712-04:00',\n",
       "  '2 weeks ago',\n",
       "  'ChIJedJ0GGI2K4gR6dco_CjRntY'),\n",
       " ('ChZDSUhNMG9nS0VJQ0FnSUNxMVlUTWZBEAE',\n",
       "  ' Camilla Guberman ',\n",
       "  5.0,\n",
       "  'By far, the best pizza I’ve ever had in Canada. We ordered the Spettacolare and it was really good. The staff is amazing, fresh ingredients and orders are super quick. Bretta was our server at Old Mill Dr, and 5 stars to her. Courteous and attentive.  We will be definitely coming back.',\n",
       "  '2021-08-16 12:31:12.620712-04:00',\n",
       "  '2 months ago',\n",
       "  'ChIJedJ0GGI2K4gR6dco_CjRntY'),\n",
       " ('ChZDSUhNMG9nS0VJQ0FnSUR5c1pUZGJBEAE',\n",
       "  ' camille epondulan ',\n",
       "  5.0,\n",
       "  'We had the Prosciutto e Rucola last night and it’s probably one of the best pizza I have ever had. The cheat night was worth it! Will comeback again soon. …',\n",
       "  '2021-08-16 12:31:12.620712-04:00',\n",
       "  '5 months ago',\n",
       "  'ChIJedJ0GGI2K4gR6dco_CjRntY'),\n",
       " ('ChZDSUhNMG9nS0VJQ0FnSUNLcjZlSUZnEAE',\n",
       "  ' Diana Su ',\n",
       "  4.0,\n",
       "  \"Gluten free crust was surprisingly really good! Apparently a competitive texture to the normal dough! The tomato sauce is probably one of the best, most flavorful sauce I've ever had! Orders are super quick and staff is friendly.\",\n",
       "  '2021-08-16 12:31:12.620712-04:00',\n",
       "  '3 months ago',\n",
       "  'ChIJedJ0GGI2K4gR6dco_CjRntY'),\n",
       " ('ChZDSUhNMG9nS0VJQ0FnSUNhcU9fSEpnEAE',\n",
       "  ' Zainab Abu Alrob ',\n",
       "  1.0,\n",
       "  'This location is horrible! The waiter (Sania) was racist, aggressive, and rude to us. She was unprofessional and made us extremely uncomfortable with her passive-aggressive comments like telling my dad to \"relax\" when he said he was ready …',\n",
       "  '2021-08-16 12:31:12.620712-04:00',\n",
       "  '3 weeks ago',\n",
       "  'ChIJedJ0GGI2K4gR6dco_CjRntY'),\n",
       " ('ChdDSUhNMG9nS0VJQ0FnSUNxaFotMTJBRRAB',\n",
       "  ' Sophia Prijic ',\n",
       "  5.0,\n",
       "  'The most amazing gluten free pizza in Toronto - very fresh! The service was great too. I will definitely be coming back!',\n",
       "  '2021-08-16 12:31:12.620712-04:00',\n",
       "  '2 months ago',\n",
       "  'ChIJedJ0GGI2K4gR6dco_CjRntY'),\n",
       " ('ChdDSUhNMG9nS0VJQ0FnSUNDbGEyWC1nRRAB',\n",
       "  ' Nash ',\n",
       "  4.0,\n",
       "  'The Gnocchi Pana E Gorgonzola, Diavola, Tagliatelle with Bolognese and Tiramasu were delicious!!! Our server had good recommendations. However we were seated in the patio on the far side of the restaurant  & I had to keep going inside to …',\n",
       "  '2021-08-16 12:31:12.620712-04:00',\n",
       "  '11 months ago',\n",
       "  'ChIJedJ0GGI2K4gR6dco_CjRntY'),\n",
       " ('ChdDSUhNMG9nS0VJQ0FnSURxMk1PenJnRRAB',\n",
       "  ' Smith Patel ',\n",
       "  5.0,\n",
       "  'Great place for authentic wood fir pizza with the touch from Italy',\n",
       "  '2021-08-16 12:31:12.620712-04:00',\n",
       "  'a month ago',\n",
       "  'ChIJedJ0GGI2K4gR6dco_CjRntY'),\n",
       " ('ChZDSUhNMG9nS0VJQ0FnSUNDM3BhUmNnEAE',\n",
       "  ' Kurtis J. Samchee ',\n",
       "  4.0,\n",
       "  'I’m fairly familiar with the Goodfellas brand, been to most of their franchises now. Good to see both some variance and similarities between them. Owner had a great disposition especially during these times. …',\n",
       "  '2021-08-16 12:31:12.620712-04:00',\n",
       "  '11 months ago',\n",
       "  'ChIJedJ0GGI2K4gR6dco_CjRntY'),\n",
       " ('ChZDSUhNMG9nS0VJQ0FnSUNxZ1A2dFZ3EAE',\n",
       "  ' Phil M ',\n",
       "  5.0,\n",
       "  'I love the food here. The pizzas and pastas are excellent, the staff is accommodating, and their takeout packaging is top notch. They also have some authentic Italian goods for sale such as sausages and cheese! Definitely a great Italian spot for tasty and fair priced food. (Helps that a lot is discounted too!)',\n",
       "  '2021-08-16 12:31:12.620712-04:00',\n",
       "  '2 months ago',\n",
       "  'ChIJedJ0GGI2K4gR6dco_CjRntY')]"
      ]
     },
     "execution_count": 11,
     "metadata": {},
     "output_type": "execute_result"
    }
   ],
   "source": [
    "c.execute('''CREATE TABLE reviews (review_id text PRIMARY KEY, user_id text, rating real, review_text text, date_retrieved text,\n",
    "date_relative text, place_id text, FOREIGN KEY(place_id) REFERENCES restaurants(place_id)) ''')\n",
    "\n",
    "reviews.to_sql('reviews', conn, if_exists='replace', index=False)\n",
    "\n",
    "query = '''SELECT * FROM reviews LIMIT 10'''\n",
    "c.execute(query)\n",
    "c.fetchall()"
   ]
  },
  {
   "cell_type": "code",
   "execution_count": 12,
   "id": "naked-entrance",
   "metadata": {
    "scrolled": true
   },
   "outputs": [
    {
     "data": {
      "text/html": [
       "<div>\n",
       "<style scoped>\n",
       "    .dataframe tbody tr th:only-of-type {\n",
       "        vertical-align: middle;\n",
       "    }\n",
       "\n",
       "    .dataframe tbody tr th {\n",
       "        vertical-align: top;\n",
       "    }\n",
       "\n",
       "    .dataframe thead th {\n",
       "        text-align: right;\n",
       "    }\n",
       "</style>\n",
       "<table border=\"1\" class=\"dataframe\">\n",
       "  <thead>\n",
       "    <tr style=\"text-align: right;\">\n",
       "      <th></th>\n",
       "      <th>review_id</th>\n",
       "      <th>user_id</th>\n",
       "      <th>rating</th>\n",
       "      <th>text</th>\n",
       "      <th>date_retrieved</th>\n",
       "      <th>date_relative</th>\n",
       "      <th>place_id</th>\n",
       "    </tr>\n",
       "  </thead>\n",
       "  <tbody>\n",
       "    <tr>\n",
       "      <th>0</th>\n",
       "      <td>ChZDSUhNMG9nS0VJQ0FnSUNheHZyeFN3EAE</td>\n",
       "      <td>Erika W</td>\n",
       "      <td>3.0</td>\n",
       "      <td>The calzone was tasty! Felt a bit heavy on the...</td>\n",
       "      <td>2021-08-16 12:31:12.620712-04:00</td>\n",
       "      <td>2 weeks ago</td>\n",
       "      <td>ChIJedJ0GGI2K4gR6dco_CjRntY</td>\n",
       "    </tr>\n",
       "    <tr>\n",
       "      <th>1</th>\n",
       "      <td>ChZDSUhNMG9nS0VJQ0FnSUNxMVlUTWZBEAE</td>\n",
       "      <td>Camilla Guberman</td>\n",
       "      <td>5.0</td>\n",
       "      <td>By far, the best pizza I’ve ever had in Canada...</td>\n",
       "      <td>2021-08-16 12:31:12.620712-04:00</td>\n",
       "      <td>2 months ago</td>\n",
       "      <td>ChIJedJ0GGI2K4gR6dco_CjRntY</td>\n",
       "    </tr>\n",
       "    <tr>\n",
       "      <th>2</th>\n",
       "      <td>ChZDSUhNMG9nS0VJQ0FnSUR5c1pUZGJBEAE</td>\n",
       "      <td>camille epondulan</td>\n",
       "      <td>5.0</td>\n",
       "      <td>We had the Prosciutto e Rucola last night and ...</td>\n",
       "      <td>2021-08-16 12:31:12.620712-04:00</td>\n",
       "      <td>5 months ago</td>\n",
       "      <td>ChIJedJ0GGI2K4gR6dco_CjRntY</td>\n",
       "    </tr>\n",
       "    <tr>\n",
       "      <th>3</th>\n",
       "      <td>ChZDSUhNMG9nS0VJQ0FnSUNLcjZlSUZnEAE</td>\n",
       "      <td>Diana Su</td>\n",
       "      <td>4.0</td>\n",
       "      <td>Gluten free crust was surprisingly really good...</td>\n",
       "      <td>2021-08-16 12:31:12.620712-04:00</td>\n",
       "      <td>3 months ago</td>\n",
       "      <td>ChIJedJ0GGI2K4gR6dco_CjRntY</td>\n",
       "    </tr>\n",
       "    <tr>\n",
       "      <th>4</th>\n",
       "      <td>ChZDSUhNMG9nS0VJQ0FnSUNhcU9fSEpnEAE</td>\n",
       "      <td>Zainab Abu Alrob</td>\n",
       "      <td>1.0</td>\n",
       "      <td>This location is horrible! The waiter (Sania) ...</td>\n",
       "      <td>2021-08-16 12:31:12.620712-04:00</td>\n",
       "      <td>3 weeks ago</td>\n",
       "      <td>ChIJedJ0GGI2K4gR6dco_CjRntY</td>\n",
       "    </tr>\n",
       "    <tr>\n",
       "      <th>5</th>\n",
       "      <td>ChdDSUhNMG9nS0VJQ0FnSUNxaFotMTJBRRAB</td>\n",
       "      <td>Sophia Prijic</td>\n",
       "      <td>5.0</td>\n",
       "      <td>The most amazing gluten free pizza in Toronto ...</td>\n",
       "      <td>2021-08-16 12:31:12.620712-04:00</td>\n",
       "      <td>2 months ago</td>\n",
       "      <td>ChIJedJ0GGI2K4gR6dco_CjRntY</td>\n",
       "    </tr>\n",
       "    <tr>\n",
       "      <th>6</th>\n",
       "      <td>ChdDSUhNMG9nS0VJQ0FnSUNDbGEyWC1nRRAB</td>\n",
       "      <td>Nash</td>\n",
       "      <td>4.0</td>\n",
       "      <td>The Gnocchi Pana E Gorgonzola, Diavola, Taglia...</td>\n",
       "      <td>2021-08-16 12:31:12.620712-04:00</td>\n",
       "      <td>11 months ago</td>\n",
       "      <td>ChIJedJ0GGI2K4gR6dco_CjRntY</td>\n",
       "    </tr>\n",
       "    <tr>\n",
       "      <th>7</th>\n",
       "      <td>ChdDSUhNMG9nS0VJQ0FnSURxMk1PenJnRRAB</td>\n",
       "      <td>Smith Patel</td>\n",
       "      <td>5.0</td>\n",
       "      <td>Great place for authentic wood fir pizza with ...</td>\n",
       "      <td>2021-08-16 12:31:12.620712-04:00</td>\n",
       "      <td>a month ago</td>\n",
       "      <td>ChIJedJ0GGI2K4gR6dco_CjRntY</td>\n",
       "    </tr>\n",
       "    <tr>\n",
       "      <th>8</th>\n",
       "      <td>ChZDSUhNMG9nS0VJQ0FnSUNDM3BhUmNnEAE</td>\n",
       "      <td>Kurtis J. Samchee</td>\n",
       "      <td>4.0</td>\n",
       "      <td>I’m fairly familiar with the Goodfellas brand,...</td>\n",
       "      <td>2021-08-16 12:31:12.620712-04:00</td>\n",
       "      <td>11 months ago</td>\n",
       "      <td>ChIJedJ0GGI2K4gR6dco_CjRntY</td>\n",
       "    </tr>\n",
       "    <tr>\n",
       "      <th>9</th>\n",
       "      <td>ChZDSUhNMG9nS0VJQ0FnSUNxZ1A2dFZ3EAE</td>\n",
       "      <td>Phil M</td>\n",
       "      <td>5.0</td>\n",
       "      <td>I love the food here. The pizzas and pastas ar...</td>\n",
       "      <td>2021-08-16 12:31:12.620712-04:00</td>\n",
       "      <td>2 months ago</td>\n",
       "      <td>ChIJedJ0GGI2K4gR6dco_CjRntY</td>\n",
       "    </tr>\n",
       "  </tbody>\n",
       "</table>\n",
       "</div>"
      ],
      "text/plain": [
       "                              review_id              user_id  rating  \\\n",
       "0   ChZDSUhNMG9nS0VJQ0FnSUNheHZyeFN3EAE             Erika W      3.0   \n",
       "1   ChZDSUhNMG9nS0VJQ0FnSUNxMVlUTWZBEAE    Camilla Guberman      5.0   \n",
       "2   ChZDSUhNMG9nS0VJQ0FnSUR5c1pUZGJBEAE   camille epondulan      5.0   \n",
       "3   ChZDSUhNMG9nS0VJQ0FnSUNLcjZlSUZnEAE            Diana Su      4.0   \n",
       "4   ChZDSUhNMG9nS0VJQ0FnSUNhcU9fSEpnEAE    Zainab Abu Alrob      1.0   \n",
       "5  ChdDSUhNMG9nS0VJQ0FnSUNxaFotMTJBRRAB       Sophia Prijic      5.0   \n",
       "6  ChdDSUhNMG9nS0VJQ0FnSUNDbGEyWC1nRRAB                Nash      4.0   \n",
       "7  ChdDSUhNMG9nS0VJQ0FnSURxMk1PenJnRRAB         Smith Patel      5.0   \n",
       "8   ChZDSUhNMG9nS0VJQ0FnSUNDM3BhUmNnEAE   Kurtis J. Samchee      4.0   \n",
       "9   ChZDSUhNMG9nS0VJQ0FnSUNxZ1A2dFZ3EAE              Phil M      5.0   \n",
       "\n",
       "                                                text  \\\n",
       "0  The calzone was tasty! Felt a bit heavy on the...   \n",
       "1  By far, the best pizza I’ve ever had in Canada...   \n",
       "2  We had the Prosciutto e Rucola last night and ...   \n",
       "3  Gluten free crust was surprisingly really good...   \n",
       "4  This location is horrible! The waiter (Sania) ...   \n",
       "5  The most amazing gluten free pizza in Toronto ...   \n",
       "6  The Gnocchi Pana E Gorgonzola, Diavola, Taglia...   \n",
       "7  Great place for authentic wood fir pizza with ...   \n",
       "8  I’m fairly familiar with the Goodfellas brand,...   \n",
       "9  I love the food here. The pizzas and pastas ar...   \n",
       "\n",
       "                     date_retrieved  date_relative  \\\n",
       "0  2021-08-16 12:31:12.620712-04:00    2 weeks ago   \n",
       "1  2021-08-16 12:31:12.620712-04:00   2 months ago   \n",
       "2  2021-08-16 12:31:12.620712-04:00   5 months ago   \n",
       "3  2021-08-16 12:31:12.620712-04:00   3 months ago   \n",
       "4  2021-08-16 12:31:12.620712-04:00    3 weeks ago   \n",
       "5  2021-08-16 12:31:12.620712-04:00   2 months ago   \n",
       "6  2021-08-16 12:31:12.620712-04:00  11 months ago   \n",
       "7  2021-08-16 12:31:12.620712-04:00    a month ago   \n",
       "8  2021-08-16 12:31:12.620712-04:00  11 months ago   \n",
       "9  2021-08-16 12:31:12.620712-04:00   2 months ago   \n",
       "\n",
       "                      place_id  \n",
       "0  ChIJedJ0GGI2K4gR6dco_CjRntY  \n",
       "1  ChIJedJ0GGI2K4gR6dco_CjRntY  \n",
       "2  ChIJedJ0GGI2K4gR6dco_CjRntY  \n",
       "3  ChIJedJ0GGI2K4gR6dco_CjRntY  \n",
       "4  ChIJedJ0GGI2K4gR6dco_CjRntY  \n",
       "5  ChIJedJ0GGI2K4gR6dco_CjRntY  \n",
       "6  ChIJedJ0GGI2K4gR6dco_CjRntY  \n",
       "7  ChIJedJ0GGI2K4gR6dco_CjRntY  \n",
       "8  ChIJedJ0GGI2K4gR6dco_CjRntY  \n",
       "9  ChIJedJ0GGI2K4gR6dco_CjRntY  "
      ]
     },
     "execution_count": 12,
     "metadata": {},
     "output_type": "execute_result"
    }
   ],
   "source": [
    "pd.read_sql(query, conn)"
   ]
  },
  {
   "cell_type": "code",
   "execution_count": 5,
   "id": "anticipated-reservoir",
   "metadata": {},
   "outputs": [
    {
     "data": {
      "text/plain": [
       "Index(['Unnamed: 0', 'review_id', 'text', 'place_id'], dtype='object')"
      ]
     },
     "execution_count": 5,
     "metadata": {},
     "output_type": "execute_result"
    }
   ],
   "source": [
    "responses.columns"
   ]
  },
  {
   "cell_type": "code",
   "execution_count": 6,
   "id": "empty-software",
   "metadata": {},
   "outputs": [
    {
     "data": {
      "text/plain": [
       "Index(['review_id', 'text', 'place_id'], dtype='object')"
      ]
     },
     "execution_count": 6,
     "metadata": {},
     "output_type": "execute_result"
    }
   ],
   "source": [
    "responses.drop(columns='Unnamed: 0', inplace=True)\n",
    "responses.columns"
   ]
  },
  {
   "cell_type": "code",
   "execution_count": 7,
   "id": "horizontal-trade",
   "metadata": {},
   "outputs": [
    {
     "data": {
      "text/plain": [
       "review_id    object\n",
       "text         object\n",
       "place_id     object\n",
       "dtype: object"
      ]
     },
     "execution_count": 7,
     "metadata": {},
     "output_type": "execute_result"
    }
   ],
   "source": [
    "responses.dtypes"
   ]
  },
  {
   "cell_type": "code",
   "execution_count": 8,
   "id": "rising-holly",
   "metadata": {},
   "outputs": [
    {
     "data": {
      "text/plain": [
       "0        Thank you for your feedback. We appreciate it ...\n",
       "1                       Grazie! Please join us again soon!\n",
       "2        Grazie! Thank you for your kind words and supp...\n",
       "3                   Amazing! We are thrilled you liked it!\n",
       "4        Thank you for your review. We appreciate the f...\n",
       "                               ...                        \n",
       "60837    Hi Julien, Thank you for taking the time to re...\n",
       "60838    Carolyn, You and your boyfriend Gregory are a ...\n",
       "60839    Hi Ryan, Sorry to hear that you felt the porti...\n",
       "60840    Robb, Thanks so much for such a wonderful revi...\n",
       "60841    Thank you for taking the time to review our re...\n",
       "Name: text, Length: 60842, dtype: object"
      ]
     },
     "execution_count": 8,
     "metadata": {},
     "output_type": "execute_result"
    }
   ],
   "source": [
    "responses.text"
   ]
  },
  {
   "cell_type": "code",
   "execution_count": 15,
   "id": "blank-processor",
   "metadata": {},
   "outputs": [
    {
     "data": {
      "text/plain": [
       "<sqlite3.Cursor at 0x25fadeec500>"
      ]
     },
     "execution_count": 15,
     "metadata": {},
     "output_type": "execute_result"
    }
   ],
   "source": [
    "c.execute('''DROP TABLE responses''')"
   ]
  },
  {
   "cell_type": "code",
   "execution_count": 16,
   "id": "connected-robert",
   "metadata": {},
   "outputs": [
    {
     "data": {
      "text/plain": [
       "[('ChZDSUhNMG9nS0VJQ0FnSUNheHZyeFN3EAE',\n",
       "  'Thank you for your feedback. We appreciate it and will share with staff. We do hope you will join us again sometime.',\n",
       "  'ChIJedJ0GGI2K4gR6dco_CjRntY'),\n",
       " ('ChZDSUhNMG9nS0VJQ0FnSUNxMVlUTWZBEAE',\n",
       "  'Grazie! Please join us again soon!',\n",
       "  'ChIJedJ0GGI2K4gR6dco_CjRntY'),\n",
       " ('ChZDSUhNMG9nS0VJQ0FnSUR5c1pUZGJBEAE',\n",
       "  'Grazie! Thank you for your kind words and support.',\n",
       "  'ChIJedJ0GGI2K4gR6dco_CjRntY'),\n",
       " ('ChZDSUhNMG9nS0VJQ0FnSUNLcjZlSUZnEAE',\n",
       "  'Amazing! We are thrilled you liked it!',\n",
       "  'ChIJedJ0GGI2K4gR6dco_CjRntY'),\n",
       " ('ChZDSUhNMG9nS0VJQ0FnSUNhcU9fSEpnEAE',\n",
       "  'Thank you for your review. We appreciate the feedback. Can you please email us at info@goodfellaspizza.ca to discuss this further. Many thanks!',\n",
       "  'ChIJedJ0GGI2K4gR6dco_CjRntY'),\n",
       " ('ChdDSUhNMG9nS0VJQ0FnSUNxaFotMTJBRRAB',\n",
       "  'Grazie! Please join us again soon!',\n",
       "  'ChIJedJ0GGI2K4gR6dco_CjRntY'),\n",
       " ('ChdDSUhNMG9nS0VJQ0FnSUNDbGEyWC1nRRAB',\n",
       "  'Grazie! We are thrilled to hear. Please do join us again soon.',\n",
       "  'ChIJedJ0GGI2K4gR6dco_CjRntY'),\n",
       " ('ChdDSUhNMG9nS0VJQ0FnSURxMk1PenJnRRAB',\n",
       "  'Grazie! We appreciate your review. Join us again soon!',\n",
       "  'ChIJedJ0GGI2K4gR6dco_CjRntY'),\n",
       " ('ChZDSUhNMG9nS0VJQ0FnSUNDM3BhUmNnEAE',\n",
       "  'Thank you for your review and your support!We look forward to having you back again soon.',\n",
       "  'ChIJedJ0GGI2K4gR6dco_CjRntY'),\n",
       " ('ChZDSUhNMG9nS0VJQ0FnSUNxZ1A2dFZ3EAE',\n",
       "  '(Translated by Google) Thank you! Come again soon!  (Original) Grazie! Come again soon!',\n",
       "  'ChIJedJ0GGI2K4gR6dco_CjRntY')]"
      ]
     },
     "execution_count": 16,
     "metadata": {},
     "output_type": "execute_result"
    }
   ],
   "source": [
    "c.execute('''CREATE TABLE responses (review_id text PRIMARY KEY, response_text text, place_id text,\n",
    "FOREIGN KEY(review_id) REFERENCES reviews(review_id), FOREIGN KEY(place_id) REFERENCES restaurants(place_id)) ''')\n",
    "\n",
    "responses.to_sql('responses', conn, if_exists='replace', index=False)\n",
    "\n",
    "query = '''SELECT * FROM responses LIMIT 10'''\n",
    "c.execute(query)\n",
    "c.fetchall()"
   ]
  },
  {
   "cell_type": "code",
   "execution_count": 18,
   "id": "designed-craft",
   "metadata": {},
   "outputs": [
    {
     "data": {
      "text/html": [
       "<div>\n",
       "<style scoped>\n",
       "    .dataframe tbody tr th:only-of-type {\n",
       "        vertical-align: middle;\n",
       "    }\n",
       "\n",
       "    .dataframe tbody tr th {\n",
       "        vertical-align: top;\n",
       "    }\n",
       "\n",
       "    .dataframe thead th {\n",
       "        text-align: right;\n",
       "    }\n",
       "</style>\n",
       "<table border=\"1\" class=\"dataframe\">\n",
       "  <thead>\n",
       "    <tr style=\"text-align: right;\">\n",
       "      <th></th>\n",
       "      <th>review_id</th>\n",
       "      <th>text</th>\n",
       "      <th>place_id</th>\n",
       "    </tr>\n",
       "  </thead>\n",
       "  <tbody>\n",
       "    <tr>\n",
       "      <th>0</th>\n",
       "      <td>ChZDSUhNMG9nS0VJQ0FnSUNheHZyeFN3EAE</td>\n",
       "      <td>Thank you for your feedback. We appreciate it ...</td>\n",
       "      <td>ChIJedJ0GGI2K4gR6dco_CjRntY</td>\n",
       "    </tr>\n",
       "    <tr>\n",
       "      <th>1</th>\n",
       "      <td>ChZDSUhNMG9nS0VJQ0FnSUNxMVlUTWZBEAE</td>\n",
       "      <td>Grazie! Please join us again soon!</td>\n",
       "      <td>ChIJedJ0GGI2K4gR6dco_CjRntY</td>\n",
       "    </tr>\n",
       "    <tr>\n",
       "      <th>2</th>\n",
       "      <td>ChZDSUhNMG9nS0VJQ0FnSUR5c1pUZGJBEAE</td>\n",
       "      <td>Grazie! Thank you for your kind words and supp...</td>\n",
       "      <td>ChIJedJ0GGI2K4gR6dco_CjRntY</td>\n",
       "    </tr>\n",
       "    <tr>\n",
       "      <th>3</th>\n",
       "      <td>ChZDSUhNMG9nS0VJQ0FnSUNLcjZlSUZnEAE</td>\n",
       "      <td>Amazing! We are thrilled you liked it!</td>\n",
       "      <td>ChIJedJ0GGI2K4gR6dco_CjRntY</td>\n",
       "    </tr>\n",
       "    <tr>\n",
       "      <th>4</th>\n",
       "      <td>ChZDSUhNMG9nS0VJQ0FnSUNhcU9fSEpnEAE</td>\n",
       "      <td>Thank you for your review. We appreciate the f...</td>\n",
       "      <td>ChIJedJ0GGI2K4gR6dco_CjRntY</td>\n",
       "    </tr>\n",
       "    <tr>\n",
       "      <th>...</th>\n",
       "      <td>...</td>\n",
       "      <td>...</td>\n",
       "      <td>...</td>\n",
       "    </tr>\n",
       "    <tr>\n",
       "      <th>60837</th>\n",
       "      <td>ChdDSUhNMG9nS0VJQ0FnSUMwMmUtc2pBRRAB</td>\n",
       "      <td>Hi Julien, Thank you for taking the time to re...</td>\n",
       "      <td>ChIJp1jFXvk1K4gRaKmLr_DxnAQ</td>\n",
       "    </tr>\n",
       "    <tr>\n",
       "      <th>60838</th>\n",
       "      <td>ChZDSUhNMG9nS0VJQ0FnSURNNzZXZmJBEAE</td>\n",
       "      <td>Carolyn, You and your boyfriend Gregory are a ...</td>\n",
       "      <td>ChIJp1jFXvk1K4gRaKmLr_DxnAQ</td>\n",
       "    </tr>\n",
       "    <tr>\n",
       "      <th>60839</th>\n",
       "      <td>ChdDSUhNMG9nS0VJQ0FnSUNzN1pHUXNRRRAB</td>\n",
       "      <td>Hi Ryan, Sorry to hear that you felt the porti...</td>\n",
       "      <td>ChIJp1jFXvk1K4gRaKmLr_DxnAQ</td>\n",
       "    </tr>\n",
       "    <tr>\n",
       "      <th>60840</th>\n",
       "      <td>ChZDSUhNMG9nS0VJQ0FnSURNN1lQckx3EAE</td>\n",
       "      <td>Robb, Thanks so much for such a wonderful revi...</td>\n",
       "      <td>ChIJp1jFXvk1K4gRaKmLr_DxnAQ</td>\n",
       "    </tr>\n",
       "    <tr>\n",
       "      <th>60841</th>\n",
       "      <td>ChdDSUhNMG9nS0VJQ0FnSUQwdzhYNnp3RRAB</td>\n",
       "      <td>Thank you for taking the time to review our re...</td>\n",
       "      <td>ChIJp1jFXvk1K4gRaKmLr_DxnAQ</td>\n",
       "    </tr>\n",
       "  </tbody>\n",
       "</table>\n",
       "<p>60842 rows × 3 columns</p>\n",
       "</div>"
      ],
      "text/plain": [
       "                                  review_id  \\\n",
       "0       ChZDSUhNMG9nS0VJQ0FnSUNheHZyeFN3EAE   \n",
       "1       ChZDSUhNMG9nS0VJQ0FnSUNxMVlUTWZBEAE   \n",
       "2       ChZDSUhNMG9nS0VJQ0FnSUR5c1pUZGJBEAE   \n",
       "3       ChZDSUhNMG9nS0VJQ0FnSUNLcjZlSUZnEAE   \n",
       "4       ChZDSUhNMG9nS0VJQ0FnSUNhcU9fSEpnEAE   \n",
       "...                                     ...   \n",
       "60837  ChdDSUhNMG9nS0VJQ0FnSUMwMmUtc2pBRRAB   \n",
       "60838   ChZDSUhNMG9nS0VJQ0FnSURNNzZXZmJBEAE   \n",
       "60839  ChdDSUhNMG9nS0VJQ0FnSUNzN1pHUXNRRRAB   \n",
       "60840   ChZDSUhNMG9nS0VJQ0FnSURNN1lQckx3EAE   \n",
       "60841  ChdDSUhNMG9nS0VJQ0FnSUQwdzhYNnp3RRAB   \n",
       "\n",
       "                                                    text  \\\n",
       "0      Thank you for your feedback. We appreciate it ...   \n",
       "1                     Grazie! Please join us again soon!   \n",
       "2      Grazie! Thank you for your kind words and supp...   \n",
       "3                 Amazing! We are thrilled you liked it!   \n",
       "4      Thank you for your review. We appreciate the f...   \n",
       "...                                                  ...   \n",
       "60837  Hi Julien, Thank you for taking the time to re...   \n",
       "60838  Carolyn, You and your boyfriend Gregory are a ...   \n",
       "60839  Hi Ryan, Sorry to hear that you felt the porti...   \n",
       "60840  Robb, Thanks so much for such a wonderful revi...   \n",
       "60841  Thank you for taking the time to review our re...   \n",
       "\n",
       "                          place_id  \n",
       "0      ChIJedJ0GGI2K4gR6dco_CjRntY  \n",
       "1      ChIJedJ0GGI2K4gR6dco_CjRntY  \n",
       "2      ChIJedJ0GGI2K4gR6dco_CjRntY  \n",
       "3      ChIJedJ0GGI2K4gR6dco_CjRntY  \n",
       "4      ChIJedJ0GGI2K4gR6dco_CjRntY  \n",
       "...                            ...  \n",
       "60837  ChIJp1jFXvk1K4gRaKmLr_DxnAQ  \n",
       "60838  ChIJp1jFXvk1K4gRaKmLr_DxnAQ  \n",
       "60839  ChIJp1jFXvk1K4gRaKmLr_DxnAQ  \n",
       "60840  ChIJp1jFXvk1K4gRaKmLr_DxnAQ  \n",
       "60841  ChIJp1jFXvk1K4gRaKmLr_DxnAQ  \n",
       "\n",
       "[60842 rows x 3 columns]"
      ]
     },
     "execution_count": 18,
     "metadata": {},
     "output_type": "execute_result"
    }
   ],
   "source": [
    "query = '''SELECT * FROM responses'''\n",
    "\n",
    "pd.read_sql(query, conn)"
   ]
  },
  {
   "cell_type": "code",
   "execution_count": 32,
   "id": "annual-movie",
   "metadata": {},
   "outputs": [],
   "source": [
    "# c.tables"
   ]
  },
  {
   "cell_type": "code",
   "execution_count": 19,
   "id": "technical-reggae",
   "metadata": {},
   "outputs": [
    {
     "data": {
      "text/plain": [
       "[('restaurants',),\n",
       " ('cuisine',),\n",
       " ('reviews',),\n",
       " ('location',),\n",
       " ('web',),\n",
       " ('responses',)]"
      ]
     },
     "execution_count": 19,
     "metadata": {},
     "output_type": "execute_result"
    }
   ],
   "source": [
    "query = '''SELECT name FROM sqlite_master WHERE type = 'table' '''\n",
    "c.execute(query)\n",
    "c.fetchall()"
   ]
  },
  {
   "cell_type": "code",
   "execution_count": 34,
   "id": "transparent-facility",
   "metadata": {},
   "outputs": [
    {
     "data": {
      "text/plain": [
       "Index(['Unnamed: 0', 'place_id', 'formatted_address', 'lattitude',\n",
       "       'longtitude', 'city', 'postalCode'],\n",
       "      dtype='object')"
      ]
     },
     "execution_count": 34,
     "metadata": {},
     "output_type": "execute_result"
    }
   ],
   "source": [
    "location.columns"
   ]
  },
  {
   "cell_type": "code",
   "execution_count": 35,
   "id": "posted-moscow",
   "metadata": {
    "scrolled": true
   },
   "outputs": [
    {
     "data": {
      "text/plain": [
       "Index(['place_id', 'formatted_address', 'lattitude', 'longtitude', 'city',\n",
       "       'postalCode'],\n",
       "      dtype='object')"
      ]
     },
     "execution_count": 35,
     "metadata": {},
     "output_type": "execute_result"
    }
   ],
   "source": [
    "location.drop(columns='Unnamed: 0', inplace=True)\n",
    "location.columns"
   ]
  },
  {
   "cell_type": "code",
   "execution_count": 36,
   "id": "packed-survey",
   "metadata": {},
   "outputs": [
    {
     "data": {
      "text/plain": [
       "place_id              object\n",
       "formatted_address     object\n",
       "lattitude            float64\n",
       "longtitude           float64\n",
       "city                  object\n",
       "postalCode            object\n",
       "dtype: object"
      ]
     },
     "execution_count": 36,
     "metadata": {},
     "output_type": "execute_result"
    }
   ],
   "source": [
    "location.dtypes"
   ]
  },
  {
   "cell_type": "code",
   "execution_count": 37,
   "id": "altered-purse",
   "metadata": {},
   "outputs": [
    {
     "data": {
      "text/plain": [
       "0       M6S 0A1\n",
       "1       M6A 2T9\n",
       "2       M6N 4K9\n",
       "3       M4V 2L1\n",
       "4       M5V 2L6\n",
       "         ...   \n",
       "2163    M1H 3C7\n",
       "2164    M5V 2A9\n",
       "2165    L2G 3V9\n",
       "2166    K2P 1M8\n",
       "2167      01602\n",
       "Name: postalCode, Length: 2168, dtype: object"
      ]
     },
     "execution_count": 37,
     "metadata": {},
     "output_type": "execute_result"
    }
   ],
   "source": [
    "location.postalCode"
   ]
  },
  {
   "cell_type": "code",
   "execution_count": 38,
   "id": "boring-privilege",
   "metadata": {},
   "outputs": [
    {
     "data": {
      "text/plain": [
       "[('ChIJedJ0GGI2K4gR6dco_CjRntY',\n",
       "  '1 Old Mill Dr, York, ON M6S 0A1, Canada',\n",
       "  43.6482211,\n",
       "  -79.4865442,\n",
       "  'York',\n",
       "  'M6S 0A1'),\n",
       " ('ChIJfQJkpzMyK4gRDnUt3YFXa5w',\n",
       "  '3401 Dufferin St #30, Toronto, ON M6A 2T9, Canada',\n",
       "  43.7251083,\n",
       "  -79.45280869999999,\n",
       "  'Toronto',\n",
       "  'M6A 2T9'),\n",
       " ('ChIJ466I-9o2K4gRxzeisSIQUzg',\n",
       "  '267 Scarlett Rd, York, ON M6N 4K9, Canada',\n",
       "  43.6777556,\n",
       "  -79.5062458,\n",
       "  'York',\n",
       "  'M6N 4K9'),\n",
       " ('ChIJrxCATO8zK4gRHe57JQWul2Q',\n",
       "  '1 Benvenuto Pl, Toronto, ON M4V 2L1, Canada',\n",
       "  43.6815023,\n",
       "  -79.3999013,\n",
       "  'Toronto',\n",
       "  'M4V 2L1'),\n",
       " ('ChIJryijc9s0K4gRG9aU7SDTXdA',\n",
       "  '163 Spadina Ave., Toronto, ON M5V 2L6, Canada',\n",
       "  43.6484905,\n",
       "  -79.39594149999999,\n",
       "  'Toronto',\n",
       "  'M5V 2L6'),\n",
       " ('ChIJf4hIwkXL1IkR1FE_9q56MKQ',\n",
       "  '424 Parliament St, Toronto, ON M5A 3A2, Canada',\n",
       "  43.6628706,\n",
       "  -79.3676929,\n",
       "  'Toronto',\n",
       "  'M5A 3A2'),\n",
       " ('ChIJHwcmTRk2K4gRm85aUecgRe8',\n",
       "  '2350 Lake Shore Blvd W, Etobicoke, ON M8V 1B6, Canada',\n",
       "  43.616382,\n",
       "  -79.48812559999999,\n",
       "  'Etobicoke',\n",
       "  'M8V 1B6'),\n",
       " ('ChIJmzR9dJU0K4gRj44f61gBfss',\n",
       "  '196 Robert St, Toronto, ON M5S 2K7, Canada',\n",
       "  43.6628197,\n",
       "  -79.4041012,\n",
       "  'Toronto',\n",
       "  'M5S 2K7'),\n",
       " ('ChIJ1ZGZKNk0K4gRaouNzuptWV8',\n",
       "  '18 Duncan St, Toronto, ON M5H 3G8, Canada',\n",
       "  43.6478528,\n",
       "  -79.3887403,\n",
       "  'Toronto',\n",
       "  'M5H 3G8'),\n",
       " ('ChIJJZP2IzPL1IkRoIXM5dEE9ck',\n",
       "  '1 Richmond St W, Toronto, ON M5H 3W4, Canada',\n",
       "  43.6514536,\n",
       "  -79.3794917,\n",
       "  'Toronto',\n",
       "  'M5H 3W4')]"
      ]
     },
     "execution_count": 38,
     "metadata": {},
     "output_type": "execute_result"
    }
   ],
   "source": [
    "c.execute('''CREATE TABLE location (place_id text, formatted_address text, lattitude real, longtitude real, city text,\n",
    "postalCode text, FOREIGN KEY(place_id) REFERENCES restaurants(place_id)) ''')\n",
    "\n",
    "location.to_sql('location', conn, if_exists='replace', index=False)\n",
    "\n",
    "query = '''SELECT * FROM location LIMIT 10'''\n",
    "c.execute(query)\n",
    "c.fetchall()"
   ]
  },
  {
   "cell_type": "code",
   "execution_count": 39,
   "id": "color-light",
   "metadata": {},
   "outputs": [
    {
     "data": {
      "text/html": [
       "<div>\n",
       "<style scoped>\n",
       "    .dataframe tbody tr th:only-of-type {\n",
       "        vertical-align: middle;\n",
       "    }\n",
       "\n",
       "    .dataframe tbody tr th {\n",
       "        vertical-align: top;\n",
       "    }\n",
       "\n",
       "    .dataframe thead th {\n",
       "        text-align: right;\n",
       "    }\n",
       "</style>\n",
       "<table border=\"1\" class=\"dataframe\">\n",
       "  <thead>\n",
       "    <tr style=\"text-align: right;\">\n",
       "      <th></th>\n",
       "      <th>place_id</th>\n",
       "      <th>formatted_address</th>\n",
       "      <th>lattitude</th>\n",
       "      <th>longtitude</th>\n",
       "      <th>city</th>\n",
       "      <th>postalCode</th>\n",
       "    </tr>\n",
       "  </thead>\n",
       "  <tbody>\n",
       "    <tr>\n",
       "      <th>0</th>\n",
       "      <td>ChIJedJ0GGI2K4gR6dco_CjRntY</td>\n",
       "      <td>1 Old Mill Dr, York, ON M6S 0A1, Canada</td>\n",
       "      <td>43.648221</td>\n",
       "      <td>-79.486544</td>\n",
       "      <td>York</td>\n",
       "      <td>M6S 0A1</td>\n",
       "    </tr>\n",
       "    <tr>\n",
       "      <th>1</th>\n",
       "      <td>ChIJfQJkpzMyK4gRDnUt3YFXa5w</td>\n",
       "      <td>3401 Dufferin St #30, Toronto, ON M6A 2T9, Canada</td>\n",
       "      <td>43.725108</td>\n",
       "      <td>-79.452809</td>\n",
       "      <td>Toronto</td>\n",
       "      <td>M6A 2T9</td>\n",
       "    </tr>\n",
       "    <tr>\n",
       "      <th>2</th>\n",
       "      <td>ChIJ466I-9o2K4gRxzeisSIQUzg</td>\n",
       "      <td>267 Scarlett Rd, York, ON M6N 4K9, Canada</td>\n",
       "      <td>43.677756</td>\n",
       "      <td>-79.506246</td>\n",
       "      <td>York</td>\n",
       "      <td>M6N 4K9</td>\n",
       "    </tr>\n",
       "    <tr>\n",
       "      <th>3</th>\n",
       "      <td>ChIJrxCATO8zK4gRHe57JQWul2Q</td>\n",
       "      <td>1 Benvenuto Pl, Toronto, ON M4V 2L1, Canada</td>\n",
       "      <td>43.681502</td>\n",
       "      <td>-79.399901</td>\n",
       "      <td>Toronto</td>\n",
       "      <td>M4V 2L1</td>\n",
       "    </tr>\n",
       "    <tr>\n",
       "      <th>4</th>\n",
       "      <td>ChIJryijc9s0K4gRG9aU7SDTXdA</td>\n",
       "      <td>163 Spadina Ave., Toronto, ON M5V 2L6, Canada</td>\n",
       "      <td>43.648491</td>\n",
       "      <td>-79.395941</td>\n",
       "      <td>Toronto</td>\n",
       "      <td>M5V 2L6</td>\n",
       "    </tr>\n",
       "    <tr>\n",
       "      <th>5</th>\n",
       "      <td>ChIJf4hIwkXL1IkR1FE_9q56MKQ</td>\n",
       "      <td>424 Parliament St, Toronto, ON M5A 3A2, Canada</td>\n",
       "      <td>43.662871</td>\n",
       "      <td>-79.367693</td>\n",
       "      <td>Toronto</td>\n",
       "      <td>M5A 3A2</td>\n",
       "    </tr>\n",
       "    <tr>\n",
       "      <th>6</th>\n",
       "      <td>ChIJHwcmTRk2K4gRm85aUecgRe8</td>\n",
       "      <td>2350 Lake Shore Blvd W, Etobicoke, ON M8V 1B6,...</td>\n",
       "      <td>43.616382</td>\n",
       "      <td>-79.488126</td>\n",
       "      <td>Etobicoke</td>\n",
       "      <td>M8V 1B6</td>\n",
       "    </tr>\n",
       "    <tr>\n",
       "      <th>7</th>\n",
       "      <td>ChIJmzR9dJU0K4gRj44f61gBfss</td>\n",
       "      <td>196 Robert St, Toronto, ON M5S 2K7, Canada</td>\n",
       "      <td>43.662820</td>\n",
       "      <td>-79.404101</td>\n",
       "      <td>Toronto</td>\n",
       "      <td>M5S 2K7</td>\n",
       "    </tr>\n",
       "    <tr>\n",
       "      <th>8</th>\n",
       "      <td>ChIJ1ZGZKNk0K4gRaouNzuptWV8</td>\n",
       "      <td>18 Duncan St, Toronto, ON M5H 3G8, Canada</td>\n",
       "      <td>43.647853</td>\n",
       "      <td>-79.388740</td>\n",
       "      <td>Toronto</td>\n",
       "      <td>M5H 3G8</td>\n",
       "    </tr>\n",
       "    <tr>\n",
       "      <th>9</th>\n",
       "      <td>ChIJJZP2IzPL1IkRoIXM5dEE9ck</td>\n",
       "      <td>1 Richmond St W, Toronto, ON M5H 3W4, Canada</td>\n",
       "      <td>43.651454</td>\n",
       "      <td>-79.379492</td>\n",
       "      <td>Toronto</td>\n",
       "      <td>M5H 3W4</td>\n",
       "    </tr>\n",
       "  </tbody>\n",
       "</table>\n",
       "</div>"
      ],
      "text/plain": [
       "                      place_id  \\\n",
       "0  ChIJedJ0GGI2K4gR6dco_CjRntY   \n",
       "1  ChIJfQJkpzMyK4gRDnUt3YFXa5w   \n",
       "2  ChIJ466I-9o2K4gRxzeisSIQUzg   \n",
       "3  ChIJrxCATO8zK4gRHe57JQWul2Q   \n",
       "4  ChIJryijc9s0K4gRG9aU7SDTXdA   \n",
       "5  ChIJf4hIwkXL1IkR1FE_9q56MKQ   \n",
       "6  ChIJHwcmTRk2K4gRm85aUecgRe8   \n",
       "7  ChIJmzR9dJU0K4gRj44f61gBfss   \n",
       "8  ChIJ1ZGZKNk0K4gRaouNzuptWV8   \n",
       "9  ChIJJZP2IzPL1IkRoIXM5dEE9ck   \n",
       "\n",
       "                                   formatted_address  lattitude  longtitude  \\\n",
       "0            1 Old Mill Dr, York, ON M6S 0A1, Canada  43.648221  -79.486544   \n",
       "1  3401 Dufferin St #30, Toronto, ON M6A 2T9, Canada  43.725108  -79.452809   \n",
       "2          267 Scarlett Rd, York, ON M6N 4K9, Canada  43.677756  -79.506246   \n",
       "3        1 Benvenuto Pl, Toronto, ON M4V 2L1, Canada  43.681502  -79.399901   \n",
       "4      163 Spadina Ave., Toronto, ON M5V 2L6, Canada  43.648491  -79.395941   \n",
       "5     424 Parliament St, Toronto, ON M5A 3A2, Canada  43.662871  -79.367693   \n",
       "6  2350 Lake Shore Blvd W, Etobicoke, ON M8V 1B6,...  43.616382  -79.488126   \n",
       "7         196 Robert St, Toronto, ON M5S 2K7, Canada  43.662820  -79.404101   \n",
       "8          18 Duncan St, Toronto, ON M5H 3G8, Canada  43.647853  -79.388740   \n",
       "9       1 Richmond St W, Toronto, ON M5H 3W4, Canada  43.651454  -79.379492   \n",
       "\n",
       "        city postalCode  \n",
       "0       York    M6S 0A1  \n",
       "1    Toronto    M6A 2T9  \n",
       "2       York    M6N 4K9  \n",
       "3    Toronto    M4V 2L1  \n",
       "4    Toronto    M5V 2L6  \n",
       "5    Toronto    M5A 3A2  \n",
       "6  Etobicoke    M8V 1B6  \n",
       "7    Toronto    M5S 2K7  \n",
       "8    Toronto    M5H 3G8  \n",
       "9    Toronto    M5H 3W4  "
      ]
     },
     "execution_count": 39,
     "metadata": {},
     "output_type": "execute_result"
    }
   ],
   "source": [
    "# query = '''SELECT * FROM responses ORDER BY responded desc LIMIT 100'''\n",
    "\n",
    "pd.read_sql(query, conn)"
   ]
  },
  {
   "cell_type": "code",
   "execution_count": 40,
   "id": "central-converter",
   "metadata": {},
   "outputs": [
    {
     "data": {
      "text/plain": [
       "[('restaurants',), ('cuisine',), ('reviews',), ('responses',), ('location',)]"
      ]
     },
     "execution_count": 40,
     "metadata": {},
     "output_type": "execute_result"
    }
   ],
   "source": [
    "query = '''SELECT name FROM sqlite_master WHERE type = 'table' '''\n",
    "c.execute(query)\n",
    "c.fetchall()"
   ]
  },
  {
   "cell_type": "code",
   "execution_count": 41,
   "id": "wicked-communication",
   "metadata": {},
   "outputs": [
    {
     "data": {
      "text/plain": [
       "Index(['Unnamed: 0', 'place_id', 'url_googleMaps'], dtype='object')"
      ]
     },
     "execution_count": 41,
     "metadata": {},
     "output_type": "execute_result"
    }
   ],
   "source": [
    "web.columns"
   ]
  },
  {
   "cell_type": "code",
   "execution_count": 42,
   "id": "behavioral-sunday",
   "metadata": {
    "scrolled": true
   },
   "outputs": [
    {
     "data": {
      "text/plain": [
       "Index(['place_id', 'url_googleMaps'], dtype='object')"
      ]
     },
     "execution_count": 42,
     "metadata": {},
     "output_type": "execute_result"
    }
   ],
   "source": [
    "web.drop(columns='Unnamed: 0', inplace=True)\n",
    "web.columns"
   ]
  },
  {
   "cell_type": "code",
   "execution_count": 43,
   "id": "virgin-colonial",
   "metadata": {},
   "outputs": [
    {
     "data": {
      "text/plain": [
       "place_id          object\n",
       "url_googleMaps    object\n",
       "dtype: object"
      ]
     },
     "execution_count": 43,
     "metadata": {},
     "output_type": "execute_result"
    }
   ],
   "source": [
    "web.dtypes"
   ]
  },
  {
   "cell_type": "code",
   "execution_count": 44,
   "id": "spiritual-wedding",
   "metadata": {},
   "outputs": [
    {
     "data": {
      "text/plain": [
       "0       https://www.google.com/maps/search/?api=1&quer...\n",
       "1       https://www.google.com/maps/search/?api=1&quer...\n",
       "2       https://www.google.com/maps/search/?api=1&quer...\n",
       "3       https://www.google.com/maps/search/?api=1&quer...\n",
       "4       https://www.google.com/maps/search/?api=1&quer...\n",
       "                              ...                        \n",
       "2163    https://www.google.com/maps/search/?api=1&quer...\n",
       "2164    https://www.google.com/maps/search/?api=1&quer...\n",
       "2165    https://www.google.com/maps/search/?api=1&quer...\n",
       "2166    https://www.google.com/maps/search/?api=1&quer...\n",
       "2167    https://www.google.com/maps/search/?api=1&quer...\n",
       "Name: url_googleMaps, Length: 2168, dtype: object"
      ]
     },
     "execution_count": 44,
     "metadata": {},
     "output_type": "execute_result"
    }
   ],
   "source": [
    "web.url_googleMaps"
   ]
  },
  {
   "cell_type": "code",
   "execution_count": 45,
   "id": "unlimited-enlargement",
   "metadata": {},
   "outputs": [
    {
     "data": {
      "text/plain": [
       "[('ChIJedJ0GGI2K4gR6dco_CjRntY',\n",
       "  'https://www.google.com/maps/search/?api=1&query=Goodfellas Wood Oven Pizza,43.6482211%2C-79.4865442&query_place_id=ChIJedJ0GGI2K4gR6dco_CjRntY'),\n",
       " ('ChIJfQJkpzMyK4gRDnUt3YFXa5w',\n",
       "  \"https://www.google.com/maps/search/?api=1&query=Moxie's Grill & Bar,43.7251083%2C-79.45280869999999&query_place_id=ChIJfQJkpzMyK4gRDnUt3YFXa5w\"),\n",
       " ('ChIJ466I-9o2K4gRxzeisSIQUzg',\n",
       "  'https://www.google.com/maps/search/?api=1&query=New Orleans Seafood & Steakhouse,43.6777556%2C-79.5062458&query_place_id=ChIJ466I-9o2K4gRxzeisSIQUzg'),\n",
       " ('ChIJrxCATO8zK4gRHe57JQWul2Q',\n",
       "  'https://www.google.com/maps/search/?api=1&query=Scaramouche Restaurant,43.6815023%2C-79.3999013&query_place_id=ChIJrxCATO8zK4gRHe57JQWul2Q'),\n",
       " ('ChIJryijc9s0K4gRG9aU7SDTXdA',\n",
       "  'https://www.google.com/maps/search/?api=1&query=Alo,43.6484905%2C-79.39594149999999&query_place_id=ChIJryijc9s0K4gRG9aU7SDTXdA'),\n",
       " ('ChIJf4hIwkXL1IkR1FE_9q56MKQ',\n",
       "  'https://www.google.com/maps/search/?api=1&query=The Tilted Dog Pub & Kitchen,43.6628706%2C-79.3676929&query_place_id=ChIJf4hIwkXL1IkR1FE_9q56MKQ'),\n",
       " ('ChIJHwcmTRk2K4gRm85aUecgRe8',\n",
       "  'https://www.google.com/maps/search/?api=1&query=LaVinia Restaurant,43.616382%2C-79.48812559999999&query_place_id=ChIJHwcmTRk2K4gRm85aUecgRe8'),\n",
       " ('ChIJmzR9dJU0K4gRj44f61gBfss',\n",
       "  'https://www.google.com/maps/search/?api=1&query=RASA,43.6628197%2C-79.4041012&query_place_id=ChIJmzR9dJU0K4gRj44f61gBfss'),\n",
       " ('ChIJ1ZGZKNk0K4gRaouNzuptWV8',\n",
       "  'https://www.google.com/maps/search/?api=1&query=PAI,43.6478528%2C-79.3887403&query_place_id=ChIJ1ZGZKNk0K4gRaouNzuptWV8'),\n",
       " ('ChIJJZP2IzPL1IkRoIXM5dEE9ck',\n",
       "  'https://www.google.com/maps/search/?api=1&query=Richmond Station,43.6514536%2C-79.3794917&query_place_id=ChIJJZP2IzPL1IkRoIXM5dEE9ck')]"
      ]
     },
     "execution_count": 45,
     "metadata": {},
     "output_type": "execute_result"
    }
   ],
   "source": [
    "c.execute('''CREATE TABLE web (place_id text, url_googleMaps text, FOREIGN KEY(place_id) REFERENCES restaurants(place_id)) ''')\n",
    "\n",
    "web.to_sql('web', conn, if_exists='replace', index=False)\n",
    "\n",
    "query = '''SELECT * FROM web LIMIT 10'''\n",
    "c.execute(query)\n",
    "c.fetchall()"
   ]
  },
  {
   "cell_type": "code",
   "execution_count": 46,
   "id": "usual-convention",
   "metadata": {},
   "outputs": [
    {
     "data": {
      "text/html": [
       "<div>\n",
       "<style scoped>\n",
       "    .dataframe tbody tr th:only-of-type {\n",
       "        vertical-align: middle;\n",
       "    }\n",
       "\n",
       "    .dataframe tbody tr th {\n",
       "        vertical-align: top;\n",
       "    }\n",
       "\n",
       "    .dataframe thead th {\n",
       "        text-align: right;\n",
       "    }\n",
       "</style>\n",
       "<table border=\"1\" class=\"dataframe\">\n",
       "  <thead>\n",
       "    <tr style=\"text-align: right;\">\n",
       "      <th></th>\n",
       "      <th>place_id</th>\n",
       "      <th>url_googleMaps</th>\n",
       "    </tr>\n",
       "  </thead>\n",
       "  <tbody>\n",
       "    <tr>\n",
       "      <th>0</th>\n",
       "      <td>ChIJedJ0GGI2K4gR6dco_CjRntY</td>\n",
       "      <td>https://www.google.com/maps/search/?api=1&amp;quer...</td>\n",
       "    </tr>\n",
       "    <tr>\n",
       "      <th>1</th>\n",
       "      <td>ChIJfQJkpzMyK4gRDnUt3YFXa5w</td>\n",
       "      <td>https://www.google.com/maps/search/?api=1&amp;quer...</td>\n",
       "    </tr>\n",
       "    <tr>\n",
       "      <th>2</th>\n",
       "      <td>ChIJ466I-9o2K4gRxzeisSIQUzg</td>\n",
       "      <td>https://www.google.com/maps/search/?api=1&amp;quer...</td>\n",
       "    </tr>\n",
       "    <tr>\n",
       "      <th>3</th>\n",
       "      <td>ChIJrxCATO8zK4gRHe57JQWul2Q</td>\n",
       "      <td>https://www.google.com/maps/search/?api=1&amp;quer...</td>\n",
       "    </tr>\n",
       "    <tr>\n",
       "      <th>4</th>\n",
       "      <td>ChIJryijc9s0K4gRG9aU7SDTXdA</td>\n",
       "      <td>https://www.google.com/maps/search/?api=1&amp;quer...</td>\n",
       "    </tr>\n",
       "    <tr>\n",
       "      <th>5</th>\n",
       "      <td>ChIJf4hIwkXL1IkR1FE_9q56MKQ</td>\n",
       "      <td>https://www.google.com/maps/search/?api=1&amp;quer...</td>\n",
       "    </tr>\n",
       "    <tr>\n",
       "      <th>6</th>\n",
       "      <td>ChIJHwcmTRk2K4gRm85aUecgRe8</td>\n",
       "      <td>https://www.google.com/maps/search/?api=1&amp;quer...</td>\n",
       "    </tr>\n",
       "    <tr>\n",
       "      <th>7</th>\n",
       "      <td>ChIJmzR9dJU0K4gRj44f61gBfss</td>\n",
       "      <td>https://www.google.com/maps/search/?api=1&amp;quer...</td>\n",
       "    </tr>\n",
       "    <tr>\n",
       "      <th>8</th>\n",
       "      <td>ChIJ1ZGZKNk0K4gRaouNzuptWV8</td>\n",
       "      <td>https://www.google.com/maps/search/?api=1&amp;quer...</td>\n",
       "    </tr>\n",
       "    <tr>\n",
       "      <th>9</th>\n",
       "      <td>ChIJJZP2IzPL1IkRoIXM5dEE9ck</td>\n",
       "      <td>https://www.google.com/maps/search/?api=1&amp;quer...</td>\n",
       "    </tr>\n",
       "  </tbody>\n",
       "</table>\n",
       "</div>"
      ],
      "text/plain": [
       "                      place_id  \\\n",
       "0  ChIJedJ0GGI2K4gR6dco_CjRntY   \n",
       "1  ChIJfQJkpzMyK4gRDnUt3YFXa5w   \n",
       "2  ChIJ466I-9o2K4gRxzeisSIQUzg   \n",
       "3  ChIJrxCATO8zK4gRHe57JQWul2Q   \n",
       "4  ChIJryijc9s0K4gRG9aU7SDTXdA   \n",
       "5  ChIJf4hIwkXL1IkR1FE_9q56MKQ   \n",
       "6  ChIJHwcmTRk2K4gRm85aUecgRe8   \n",
       "7  ChIJmzR9dJU0K4gRj44f61gBfss   \n",
       "8  ChIJ1ZGZKNk0K4gRaouNzuptWV8   \n",
       "9  ChIJJZP2IzPL1IkRoIXM5dEE9ck   \n",
       "\n",
       "                                      url_googleMaps  \n",
       "0  https://www.google.com/maps/search/?api=1&quer...  \n",
       "1  https://www.google.com/maps/search/?api=1&quer...  \n",
       "2  https://www.google.com/maps/search/?api=1&quer...  \n",
       "3  https://www.google.com/maps/search/?api=1&quer...  \n",
       "4  https://www.google.com/maps/search/?api=1&quer...  \n",
       "5  https://www.google.com/maps/search/?api=1&quer...  \n",
       "6  https://www.google.com/maps/search/?api=1&quer...  \n",
       "7  https://www.google.com/maps/search/?api=1&quer...  \n",
       "8  https://www.google.com/maps/search/?api=1&quer...  \n",
       "9  https://www.google.com/maps/search/?api=1&quer...  "
      ]
     },
     "execution_count": 46,
     "metadata": {},
     "output_type": "execute_result"
    }
   ],
   "source": [
    "# query = '''SELECT * FROM responses ORDER BY responded desc LIMIT 100'''\n",
    "\n",
    "pd.read_sql(query, conn)"
   ]
  },
  {
   "cell_type": "code",
   "execution_count": 47,
   "id": "coral-sierra",
   "metadata": {},
   "outputs": [
    {
     "data": {
      "text/plain": [
       "list"
      ]
     },
     "execution_count": 47,
     "metadata": {},
     "output_type": "execute_result"
    }
   ],
   "source": [
    "query = '''SELECT name FROM sqlite_master WHERE type = 'table' '''\n",
    "c.execute(query)\n",
    "type(c.fetchall())"
   ]
  },
  {
   "cell_type": "code",
   "execution_count": 48,
   "id": "addressed-mambo",
   "metadata": {},
   "outputs": [
    {
     "data": {
      "text/plain": [
       "[('ChIJedJ0GGI2K4gR6dco_CjRntY',\n",
       "  '1. Goodfellas Wood Oven Pizza',\n",
       "  1,\n",
       "  'Goodfellas Wood Oven Pizza',\n",
       "  'Italian, Pizza',\n",
       "  '2021-08-09 19:15:40.484368-04:00',\n",
       "  '4.5 of 5 bubbles',\n",
       "  4.3,\n",
       "  'OPERATIONAL',\n",
       "  902)]"
      ]
     },
     "execution_count": 48,
     "metadata": {},
     "output_type": "execute_result"
    }
   ],
   "source": [
    "query = '''SELECT * FROM restaurants LIMIT 1;'''\n",
    "c.execute(query)\n",
    "c.fetchall()"
   ]
  },
  {
   "cell_type": "code",
   "execution_count": 49,
   "id": "perfect-imagination",
   "metadata": {},
   "outputs": [],
   "source": [
    "query = '''SELECT name FROM sqlite_master WHERE type = 'table' ORDER BY name '''\n",
    "\n",
    "def printSchema(connection):\n",
    "    connection.execute(query)\n",
    "    for (tableName,) in connection.fetchall():\n",
    "        print(\"{}:\".format(tableName))\n",
    "        for (\n",
    "            columnID, columnName, columnType,\n",
    "            columnNotNull, columnDefault, columnPK,\n",
    "        ) in connection.execute(\"pragma table_info('{}');\".format(tableName)):\n",
    "            print(\"  {id}: {name}({type}){null}{default}{pk}\".format(\n",
    "                id=columnID,\n",
    "                name=columnName,\n",
    "                type=columnType,\n",
    "                null=\" not null\" if columnNotNull else \"\",\n",
    "                default=\" [{}]\".format(columnDefault) if columnDefault else \"\",\n",
    "                pk=\" *{}\".format(columnPK) if columnPK else \"\",\n",
    "            ))\n"
   ]
  },
  {
   "cell_type": "code",
   "execution_count": 50,
   "id": "adolescent-video",
   "metadata": {},
   "outputs": [
    {
     "name": "stdout",
     "output_type": "stream",
     "text": [
      "cuisine:\n",
      "  0: place_id(TEXT)\n",
      "  1: name_google(TEXT)\n",
      "  2: category_tripAdvisor_1(TEXT)\n",
      "  3: category_tripAdvisor_2(TEXT)\n",
      "location:\n",
      "  0: place_id(TEXT)\n",
      "  1: formatted_address(TEXT)\n",
      "  2: lattitude(REAL)\n",
      "  3: longtitude(REAL)\n",
      "  4: city(TEXT)\n",
      "  5: postalCode(TEXT)\n",
      "responses:\n",
      "  0: review_id(TEXT)\n",
      "  1: responded(INTEGER)\n",
      "  2: text(TEXT)\n",
      "  3: place_id(TEXT)\n",
      "restaurants:\n",
      "  0: place_id(TEXT)\n",
      "  1: name_tripAdvisor(TEXT)\n",
      "  2: rank_tripAdvisor(INTEGER)\n",
      "  3: name_google(TEXT)\n",
      "  4: cuisine(TEXT)\n",
      "  5: retrieve_date(TEXT)\n",
      "  6: rating_tripAdvisor(TEXT)\n",
      "  7: rating_google(REAL)\n",
      "  8: status(TEXT)\n",
      "  9: review_count(INTEGER)\n",
      "reviews:\n",
      "  0: review_id(TEXT)\n",
      "  1: user_id(TEXT)\n",
      "  2: text(TEXT)\n",
      "  3: date_retrieved(TEXT)\n",
      "  4: date_relative(TEXT)\n",
      "  5: place_id(TEXT)\n",
      "web:\n",
      "  0: place_id(TEXT)\n",
      "  1: url_googleMaps(TEXT)\n"
     ]
    }
   ],
   "source": [
    "printSchema(c)"
   ]
  },
  {
   "cell_type": "code",
   "execution_count": 20,
   "id": "compound-conducting",
   "metadata": {},
   "outputs": [
    {
     "name": "stdout",
     "output_type": "stream",
     "text": [
      "table: restaurants\n",
      "[(0, 'place_id', 'TEXT', 0, None, 0), (1, 'name_tripAdvisor', 'TEXT', 0, None, 0), (2, 'rank_tripAdvisor', 'INTEGER', 0, None, 0), (3, 'name_google', 'TEXT', 0, None, 0), (4, 'cuisine', 'TEXT', 0, None, 0), (5, 'retrieve_date', 'TEXT', 0, None, 0), (6, 'rating_tripAdvisor', 'TEXT', 0, None, 0), (7, 'rating_google', 'REAL', 0, None, 0), (8, 'status', 'TEXT', 0, None, 0), (9, 'review_count', 'INTEGER', 0, None, 0)]\n",
      "[]\n",
      "table: cuisine\n",
      "[(0, 'place_id', 'TEXT', 0, None, 0), (1, 'name_google', 'TEXT', 0, None, 0), (2, 'category_tripAdvisor_1', 'TEXT', 0, None, 0), (3, 'category_tripAdvisor_2', 'TEXT', 0, None, 0)]\n",
      "[]\n",
      "table: reviews\n",
      "[(0, 'review_id', 'TEXT', 0, None, 0), (1, 'user_id', 'TEXT', 0, None, 0), (2, 'text', 'TEXT', 0, None, 0), (3, 'date_retrieved', 'TEXT', 0, None, 0), (4, 'date_relative', 'TEXT', 0, None, 0), (5, 'place_id', 'TEXT', 0, None, 0)]\n",
      "[]\n",
      "table: location\n",
      "[(0, 'place_id', 'TEXT', 0, None, 0), (1, 'formatted_address', 'TEXT', 0, None, 0), (2, 'lattitude', 'REAL', 0, None, 0), (3, 'longtitude', 'REAL', 0, None, 0), (4, 'city', 'TEXT', 0, None, 0), (5, 'postalCode', 'TEXT', 0, None, 0)]\n",
      "[]\n",
      "table: web\n",
      "[(0, 'place_id', 'TEXT', 0, None, 0), (1, 'url_googleMaps', 'TEXT', 0, None, 0)]\n",
      "[]\n",
      "table: responses\n",
      "[(0, 'review_id', 'TEXT', 0, None, 0), (1, 'text', 'TEXT', 0, None, 0), (2, 'place_id', 'TEXT', 0, None, 0)]\n",
      "[]\n"
     ]
    }
   ],
   "source": [
    "rows = c.execute(\"SELECT name FROM sqlite_master WHERE type = 'table'\")\n",
    "tables = [row[0] for row in rows]\n",
    "\n",
    "def sql_identifier(s):\n",
    "    return '\"' + s.replace('\"', '\"\"') + '\"'\n",
    "\n",
    "for table in tables:\n",
    "    print(\"table: \" + table)\n",
    "    rows = c.execute(\"PRAGMA table_info({})\".format(sql_identifier(table)))\n",
    "    print(rows.fetchall())\n",
    "    rows = c.execute(\"PRAGMA foreign_key_list({})\".format(sql_identifier(table)))\n",
    "    print(rows.fetchall())\n"
   ]
  },
  {
   "cell_type": "code",
   "execution_count": 21,
   "id": "registered-cartoon",
   "metadata": {},
   "outputs": [
    {
     "data": {
      "text/plain": [
       "['restaurants', 'cuisine', 'reviews', 'location', 'web', 'responses']"
      ]
     },
     "execution_count": 21,
     "metadata": {},
     "output_type": "execute_result"
    }
   ],
   "source": [
    "tables"
   ]
  },
  {
   "cell_type": "code",
   "execution_count": 22,
   "id": "infrared-underwear",
   "metadata": {},
   "outputs": [
    {
     "data": {
      "text/plain": [
       "[(0, 'review_id', 'TEXT', 0, None, 0),\n",
       " (1, 'user_id', 'TEXT', 0, None, 0),\n",
       " (2, 'text', 'TEXT', 0, None, 0),\n",
       " (3, 'date_retrieved', 'TEXT', 0, None, 0),\n",
       " (4, 'date_relative', 'TEXT', 0, None, 0),\n",
       " (5, 'place_id', 'TEXT', 0, None, 0)]"
      ]
     },
     "execution_count": 22,
     "metadata": {},
     "output_type": "execute_result"
    }
   ],
   "source": [
    "c.execute(\"PRAGMA table_info({})\".format('reviews'))\n",
    "c.fetchall()"
   ]
  }
 ],
 "metadata": {
  "kernelspec": {
   "display_name": "Python 3",
   "language": "python",
   "name": "python3"
  },
  "language_info": {
   "codemirror_mode": {
    "name": "ipython",
    "version": 3
   },
   "file_extension": ".py",
   "mimetype": "text/x-python",
   "name": "python",
   "nbconvert_exporter": "python",
   "pygments_lexer": "ipython3",
   "version": "3.9.1"
  }
 },
 "nbformat": 4,
 "nbformat_minor": 5
}
